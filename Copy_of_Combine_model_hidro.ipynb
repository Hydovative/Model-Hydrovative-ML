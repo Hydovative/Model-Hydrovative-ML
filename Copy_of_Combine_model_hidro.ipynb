{
  "nbformat": 4,
  "nbformat_minor": 0,
  "metadata": {
    "colab": {
      "provenance": [],
      "collapsed_sections": [
        "q3FJN1Hs2T9f"
      ],
      "authorship_tag": "ABX9TyP+vo7T+XcAPUUB8ROhyDdn",
      "include_colab_link": true
    },
    "kernelspec": {
      "name": "python3",
      "display_name": "Python 3"
    },
    "language_info": {
      "name": "python"
    }
  },
  "cells": [
    {
      "cell_type": "markdown",
      "metadata": {
        "id": "view-in-github",
        "colab_type": "text"
      },
      "source": [
        "<a href=\"https://colab.research.google.com/github/Hydovative/Model-Hydrovative-ML/blob/main/Copy_of_Combine_model_hidro.ipynb\" target=\"_parent\"><img src=\"https://colab.research.google.com/assets/colab-badge.svg\" alt=\"Open In Colab\"/></a>"
      ]
    },
    {
      "cell_type": "markdown",
      "source": [
        "# lib and import data"
      ],
      "metadata": {
        "id": "81Ivh9_o_OM_"
      }
    },
    {
      "cell_type": "code",
      "source": [
        "import os\n",
        "import random\n",
        "import shutil\n",
        "import tensorflow as tf\n",
        "import pandas as pd\n",
        "import numpy as np\n",
        "import matplotlib.pyplot as plt\n",
        "from sklearn.model_selection import train_test_split\n",
        "from tensorflow.keras.preprocessing.image import ImageDataGenerator\n",
        "from shutil import copyfile\n",
        "from sklearn.ensemble import StackingClassifier\n",
        "from sklearn.linear_model import LogisticRegression"
      ],
      "metadata": {
        "id": "5y4rKTZP3Ilv"
      },
      "execution_count": 4,
      "outputs": []
    },
    {
      "cell_type": "code",
      "source": [
        "from google.colab import drive\n",
        "drive.mount('/content/drive')"
      ],
      "metadata": {
        "id": "6Vt0KFu3lZGp",
        "colab": {
          "base_uri": "https://localhost:8080/"
        },
        "outputId": "38aa14b1-5927-4abb-bfdf-ff3e9a2b5fc3"
      },
      "execution_count": 5,
      "outputs": [
        {
          "output_type": "stream",
          "name": "stdout",
          "text": [
            "Mounted at /content/drive\n"
          ]
        }
      ]
    },
    {
      "cell_type": "code",
      "execution_count": 6,
      "metadata": {
        "id": "CdT_4qlAy--w"
      },
      "outputs": [],
      "source": [
        "# Define root directory\n",
        "dir_sehat = '/content/drive/MyDrive/--dataset/sehat'\n",
        "dir_fruit = '/content/drive/MyDrive/--dataset/sakit/fruit'\n",
        "dir_leaf = '/content/drive/MyDrive/--dataset/sakit/leaf'\n",
        "dir_combine = '/content/drive/MyDrive/--dataset/combine'"
      ]
    },
    {
      "cell_type": "code",
      "source": [
        "train_sehat = '/content/drive/MyDrive/--dataset/sehat/train'\n",
        "val_sehat = '/content/drive/MyDrive/--dataset/sehat/val'\n",
        "test_sehat = '/content/drive/MyDrive/--dataset/sehat/test'\n",
        "\n",
        "train_fruit = '/content/drive/MyDrive/--dataset/sakit/fruit/train'\n",
        "val_fruit = '/content/drive/MyDrive/--dataset/sakit/fruit/val'\n",
        "test_fruit = '/content/drive/MyDrive/--dataset/sakit/fruit/test'\n",
        "\n",
        "train_leaf = '/content/drive/MyDrive/--dataset/sakit/leaf/train'\n",
        "val_leaf = '/content/drive/MyDrive/--dataset/sakit/leaf/val'\n",
        "test_leaf = '/content/drive/MyDrive/--dataset/sakit/leaf/test'\n",
        "\n",
        "train_combine = '/content/drive/MyDrive/--dataset/combine/train'\n",
        "val_combine = '/content/drive/MyDrive/--dataset/combine/val'\n",
        "test_combine = '/content/drive/MyDrive/--dataset/combine/test'"
      ],
      "metadata": {
        "id": "qmrniS7yO7MO"
      },
      "execution_count": 7,
      "outputs": []
    },
    {
      "cell_type": "markdown",
      "source": [
        "# image generator"
      ],
      "metadata": {
        "id": "c5_ynVm0HpIv"
      }
    },
    {
      "cell_type": "markdown",
      "source": [
        "**ImageDataGenerator**"
      ],
      "metadata": {
        "id": "fweo-8UWlKvR"
      }
    },
    {
      "cell_type": "code",
      "source": [
        "# Data augmentation for training dataset (sehat)\n",
        "training_datagen = ImageDataGenerator(\n",
        "    rescale=1./255.0,\n",
        "    rotation_range=40,\n",
        "    width_shift_range=0.2,\n",
        "    height_shift_range=0.2,\n",
        "    shear_range=0.2,\n",
        "    zoom_range=0.2,\n",
        "    horizontal_flip=True,\n",
        "    fill_mode='nearest'\n",
        ")\n",
        "\n",
        "# Rescaling for validation dataset (sehat)\n",
        "validation_datagen = ImageDataGenerator(rescale=1./255.0)\n",
        "\n",
        "# Rescaling for test dataset (sehat)\n",
        "test_datagen = ImageDataGenerator(rescale=1./255.0)"
      ],
      "metadata": {
        "id": "0xfNO0RGbwy2"
      },
      "execution_count": 8,
      "outputs": []
    },
    {
      "cell_type": "markdown",
      "source": [
        "**jenis tanaman data generator**"
      ],
      "metadata": {
        "id": "qRNS6DTKDl43"
      }
    },
    {
      "cell_type": "code",
      "source": [
        "# Flow training images in batches using training_datagen generator\n",
        "train_generator_sehat = training_datagen.flow_from_directory(\n",
        "    directory=train_sehat,\n",
        "    target_size=(150, 150),\n",
        "    class_mode='categorical',\n",
        "    batch_size=32\n",
        ")\n",
        "\n",
        "# Flow validation images in batches using validation_datagen generator\n",
        "validation_generator_sehat = validation_datagen.flow_from_directory(\n",
        "    directory=val_sehat,\n",
        "    target_size=(150, 150),\n",
        "    class_mode='categorical',\n",
        "    batch_size=32\n",
        ")\n",
        "\n",
        "# Flow test images in batches using test_datagen generator\n",
        "test_generator_sehat = test_datagen.flow_from_directory(\n",
        "    directory=test_sehat,\n",
        "    target_size=(150, 150),\n",
        "    batch_size=1,\n",
        "    class_mode='categorical',  # Adjust based on your data class type\n",
        "    shuffle=False  # Ensure no data shuffling\n",
        ")"
      ],
      "metadata": {
        "colab": {
          "base_uri": "https://localhost:8080/"
        },
        "id": "C5CLG0IFUgTP",
        "outputId": "0bed6926-b660-41b3-ca3d-09fc26b25ec1"
      },
      "execution_count": 9,
      "outputs": [
        {
          "output_type": "stream",
          "name": "stdout",
          "text": [
            "Found 1431 images belonging to 8 classes.\n",
            "Found 179 images belonging to 8 classes.\n",
            "Found 183 images belonging to 8 classes.\n"
          ]
        }
      ]
    },
    {
      "cell_type": "markdown",
      "source": [
        "**buah data genarator**"
      ],
      "metadata": {
        "id": "4jD_BeZ0DiRn"
      }
    },
    {
      "cell_type": "code",
      "source": [
        "train_generator_buah = training_datagen.flow_from_directory(\n",
        "    directory=train_fruit,\n",
        "    target_size=(150, 150),\n",
        "    batch_size=28,\n",
        "    class_mode='binary'\n",
        ")\n",
        "\n",
        "valid_generator_buah = validation_datagen.flow_from_directory(\n",
        "    directory=val_fruit,\n",
        "    target_size=(150, 150),\n",
        "    batch_size=28,\n",
        "    class_mode='binary'\n",
        ")\n",
        "\n",
        "test_generator_buah = test_datagen.flow_from_directory(\n",
        "    directory=test_fruit,\n",
        "    target_size=(150, 150),\n",
        "    batch_size=1,\n",
        "    class_mode='binary',\n",
        "    shuffle=False\n",
        ")"
      ],
      "metadata": {
        "colab": {
          "base_uri": "https://localhost:8080/"
        },
        "id": "At0yiFQkUUBe",
        "outputId": "8f825fd8-c1af-4964-ddaa-0223c58204fc"
      },
      "execution_count": 10,
      "outputs": [
        {
          "output_type": "stream",
          "name": "stdout",
          "text": [
            "Found 436 images belonging to 2 classes.\n",
            "Found 55 images belonging to 2 classes.\n",
            "Found 56 images belonging to 2 classes.\n"
          ]
        }
      ]
    },
    {
      "cell_type": "markdown",
      "source": [
        "**Daun data generator**"
      ],
      "metadata": {
        "id": "n_8-tQjuDdh9"
      }
    },
    {
      "cell_type": "code",
      "source": [
        "\n",
        "train_generator_daun = training_datagen.flow_from_directory(\n",
        "    directory=train_leaf,\n",
        "    target_size=(150, 150),\n",
        "    batch_size=28,\n",
        "    class_mode='binary'\n",
        ")\n",
        "\n",
        "valid_generator_daun = validation_datagen.flow_from_directory(\n",
        "    directory=val_leaf,\n",
        "    target_size=(150, 150),\n",
        "    batch_size=28,\n",
        "    class_mode='binary'\n",
        ")\n",
        "\n",
        "test_generator_daun = test_datagen.flow_from_directory(\n",
        "    directory=test_leaf,\n",
        "    target_size=(150, 150),\n",
        "    batch_size=1,\n",
        "    class_mode='binary',\n",
        "    shuffle=False\n",
        ")"
      ],
      "metadata": {
        "id": "-XdKsYP1UWxf",
        "colab": {
          "base_uri": "https://localhost:8080/"
        },
        "outputId": "c449bb6f-2b68-425b-ab22-fa324e2e3b51"
      },
      "execution_count": 11,
      "outputs": [
        {
          "output_type": "stream",
          "name": "stdout",
          "text": [
            "Found 615 images belonging to 2 classes.\n",
            "Found 98 images belonging to 2 classes.\n",
            "Found 157 images belonging to 2 classes.\n"
          ]
        }
      ]
    },
    {
      "cell_type": "markdown",
      "source": [
        "**Combine Data generator**"
      ],
      "metadata": {
        "id": "e3vL8RmPFi2q"
      }
    },
    {
      "cell_type": "code",
      "source": [
        "train_generator_combine = training_datagen.flow_from_directory(\n",
        "    directory=train_combine,\n",
        "    target_size=(150, 150),\n",
        "    batch_size=28,\n",
        "    class_mode='categorical'\n",
        ")\n",
        "\n",
        "valid_generator_combine = validation_datagen.flow_from_directory(\n",
        "    directory=val_combine,\n",
        "    target_size=(150, 150),\n",
        "    batch_size=28,\n",
        "    class_mode='categorical'\n",
        ")\n",
        "\n",
        "test_generator_combine = test_datagen.flow_from_directory(\n",
        "    directory=test_combine,\n",
        "    target_size=(150, 150),\n",
        "    batch_size=1,\n",
        "    class_mode='categorical',\n",
        "    shuffle=False\n",
        ")\n",
        "\n",
        "combine_labels = valid_generator_combine.classes\n",
        "combine_val = validation_generator_sehat"
      ],
      "metadata": {
        "colab": {
          "base_uri": "https://localhost:8080/"
        },
        "id": "MTcKpWyKGx-d",
        "outputId": "22e6d577-ca71-4890-e1d6-bb97747c804e"
      },
      "execution_count": 12,
      "outputs": [
        {
          "output_type": "stream",
          "name": "stdout",
          "text": [
            "Found 1390 images belonging to 8 classes.\n",
            "Found 173 images belonging to 8 classes.\n",
            "Found 178 images belonging to 8 classes.\n"
          ]
        }
      ]
    },
    {
      "cell_type": "markdown",
      "source": [
        "**Combine 2 Image Generator**"
      ],
      "metadata": {
        "id": "mtTCVzB3Bcge"
      }
    },
    {
      "cell_type": "code",
      "source": [
        "train_com2 = '/content/drive/MyDrive/--dataset/Combine 2/train'\n",
        "val_com2 = '/content/drive/MyDrive/--dataset/Combine 2/val'\n",
        "test_com2 = '/content/drive/MyDrive/--dataset/Combine 2/test'\n",
        "\n",
        "train_generator_combine2 = training_datagen.flow_from_directory(\n",
        "    directory=train_com2,\n",
        "    target_size=(150, 150),\n",
        "    batch_size=15,\n",
        "    class_mode='binary'\n",
        ")\n",
        "\n",
        "valid_generator_combine2 = validation_datagen.flow_from_directory(\n",
        "    directory=val_com2,\n",
        "    target_size=(150, 150),\n",
        "    batch_size=15,\n",
        "    class_mode='binary'\n",
        ")\n",
        "\n",
        "test_generator_combine2 = test_datagen.flow_from_directory(\n",
        "    directory=test_com2,\n",
        "    target_size=(150, 150),\n",
        "    batch_size=1,\n",
        "    class_mode='binary',\n",
        "    shuffle=False\n",
        ")\n",
        "\n",
        "combine2_labels = valid_generator_combine2.classes\n",
        "combine2_val = valid_generator_combine2"
      ],
      "metadata": {
        "colab": {
          "base_uri": "https://localhost:8080/"
        },
        "id": "_or6_SUABW1q",
        "outputId": "b1707ce1-8b35-44da-c0b5-250c2a11284e"
      },
      "execution_count": 37,
      "outputs": [
        {
          "output_type": "stream",
          "name": "stdout",
          "text": [
            "Found 1051 images belonging to 2 classes.\n",
            "Found 153 images belonging to 2 classes.\n",
            "Found 213 images belonging to 2 classes.\n"
          ]
        }
      ]
    },
    {
      "cell_type": "markdown",
      "source": [
        "# Callback"
      ],
      "metadata": {
        "id": "TFumVVOXmrM9"
      }
    },
    {
      "cell_type": "code",
      "source": [
        "class Callback(tf.keras.callbacks.Callback):\n",
        "    def on_epoch_end(self, epoch, logs={}):\n",
        "      # Check the loss\n",
        "      if(logs.get('loss') < 0.3):\n",
        "\n",
        "        # Stop if threshold is met\n",
        "        print(\"\\nLoss is lower than 0.4 and acc is above 0.8 so cancelling training!\")\n",
        "        self.model.stop_training = True\n",
        "        print(f'Epoch {epoch} ended with logs: {logs}')\n",
        "# Instantiate class\n",
        "callbacks = Callback()"
      ],
      "metadata": {
        "id": "i_OOcjbcmqnY"
      },
      "execution_count": 14,
      "outputs": []
    },
    {
      "cell_type": "markdown",
      "source": [
        "# Combine Model 2\n"
      ],
      "metadata": {
        "id": "MRfUBKX4AheX"
      }
    },
    {
      "cell_type": "code",
      "source": [
        "from tensorflow.keras.preprocessing.sequence import pad_sequences\n",
        "\n",
        "# Load pre-trained models\n",
        "model1 = tf.keras.models.load_model('/content/drive/MyDrive/model/fruit_model.h5')\n",
        "model2 = tf.keras.models.load_model('/content/drive/MyDrive/model/jenis_daun_model.h5')\n",
        "\n",
        "num_samples = 56  # Update this to match the number of samples you want to predict\n",
        "input_shape = (150, 150, 3)  # Adjust this based on your actual input shape\n",
        "\n",
        "\n",
        "# Make predictions using each model\n",
        "predictions1 = model1.predict(test_generator_buah)\n",
        "predictions2 = model2.predict(test_generator_daun)\n",
        "\n",
        "# Now, the arrays have consistent shapes\n",
        "average_predictions = np.average([predictions1[:num_samples], predictions2[:num_samples]], axis=0)\n"
      ],
      "metadata": {
        "colab": {
          "base_uri": "https://localhost:8080/"
        },
        "id": "d0qujBYYAfdT",
        "outputId": "5465e7a3-494e-4439-bcdd-3c3c61e63048"
      },
      "execution_count": 15,
      "outputs": [
        {
          "output_type": "stream",
          "name": "stdout",
          "text": [
            "56/56 [==============================] - 41s 738ms/step\n",
            "157/157 [==============================] - 40s 258ms/step\n"
          ]
        }
      ]
    },
    {
      "cell_type": "code",
      "source": [
        "#round the predictions to get discrete values\n",
        "rounded_predictions = np.round(average_predictions)\n",
        "\n",
        "# Ensure ground_truth_labels has the correct size\n",
        "ground_truth_labels = np.random.randint(0, 2, size=(num_samples, 1))\n",
        "\n",
        "# Evaluate the ensemble performance\n",
        "ensemble_accuracy = np.mean(np.equal(rounded_predictions, ground_truth_labels))\n",
        "print(f'Ensemble Accuracy: {ensemble_accuracy * 100:.2f}%')\n",
        "\n",
        "# Alternatively, you can evaluate the performance of each individual model\n",
        "accuracy_model1 = np.mean(np.equal(np.round(predictions1[:num_samples]), ground_truth_labels))\n",
        "accuracy_model2 = np.mean(np.equal(np.round(predictions2[:num_samples]), ground_truth_labels))\n",
        "\n",
        "print(f'Model 1 Accuracy: {accuracy_model1 * 100:.2f}%')\n",
        "print(f'Model 2 Accuracy: {accuracy_model2 * 100:.2f}%')\n",
        "print(\"average_predictions:\", average_predictions.shape)\n"
      ],
      "metadata": {
        "colab": {
          "base_uri": "https://localhost:8080/"
        },
        "id": "R9UOMJkcF0Y6",
        "outputId": "04d8578e-a755-42ba-a9de-f9278fd556bb"
      },
      "execution_count": 16,
      "outputs": [
        {
          "output_type": "stream",
          "name": "stdout",
          "text": [
            "Ensemble Accuracy: 39.29%\n",
            "Model 1 Accuracy: 44.64%\n",
            "Model 2 Accuracy: 35.71%\n",
            "average_predictions: (56, 1)\n"
          ]
        }
      ]
    },
    {
      "cell_type": "code",
      "source": [
        "from tensorflow.keras.layers import Average\n",
        "from tensorflow.keras.models import Model\n",
        "# Rename layers in the first model to make them unique\n",
        "for layer in model1.layers:\n",
        "    layer._name = 'model1_' + layer.name  # Add a prefix to make names unique\n",
        "\n",
        "# Rename layers in the second model to make them unique\n",
        "for layer in model2.layers:\n",
        "    layer._name = 'model2_' + layer.name  # Add a prefix to make names unique\n",
        "\n",
        "# Menggabungkan dua model dengan rata-rata\n",
        "averaged = Average()([model1.output, model2.output])\n",
        "\n",
        "# Membuat model gabungan\n",
        "combined_model = Model(inputs=[model1.input, model2.input], outputs=averaged)\n",
        "\n",
        "# Menampilkan ringkasan model gabungan\n",
        "combined_model.summary()"
      ],
      "metadata": {
        "colab": {
          "base_uri": "https://localhost:8080/"
        },
        "id": "H1bUwkxhIafg",
        "outputId": "87fef607-a371-4a78-c33c-d657a98b0a28"
      },
      "execution_count": 17,
      "outputs": [
        {
          "output_type": "stream",
          "name": "stdout",
          "text": [
            "Model: \"model\"\n",
            "__________________________________________________________________________________________________\n",
            " Layer (type)                Output Shape                 Param #   Connected to                  \n",
            "==================================================================================================\n",
            " conv2d_9_input (InputLayer  [(None, 150, 150, 3)]        0         []                            \n",
            " )                                                                                                \n",
            "                                                                                                  \n",
            " conv2d_15_input (InputLaye  [(None, 150, 150, 3)]        0         []                            \n",
            " r)                                                                                               \n",
            "                                                                                                  \n",
            " model1_conv2d_9 (Conv2D)    (None, 150, 150, 16)         448       ['conv2d_9_input[0][0]']      \n",
            "                                                                                                  \n",
            " model2_conv2d_15 (Conv2D)   (None, 148, 148, 16)         448       ['conv2d_15_input[0][0]']     \n",
            "                                                                                                  \n",
            " model1_max_pooling2d_9 (Ma  (None, 75, 75, 16)           0         ['model1_conv2d_9[0][0]']     \n",
            " xPooling2D)                                                                                      \n",
            "                                                                                                  \n",
            " model2_max_pooling2d_15 (M  (None, 74, 74, 16)           0         ['model2_conv2d_15[0][0]']    \n",
            " axPooling2D)                                                                                     \n",
            "                                                                                                  \n",
            " model1_conv2d_10 (Conv2D)   (None, 73, 73, 32)           4640      ['model1_max_pooling2d_9[0][0]\n",
            "                                                                    ']                            \n",
            "                                                                                                  \n",
            " model2_conv2d_16 (Conv2D)   (None, 72, 72, 32)           4640      ['model2_max_pooling2d_15[0][0\n",
            "                                                                    ]']                           \n",
            "                                                                                                  \n",
            " model1_max_pooling2d_10 (M  (None, 36, 36, 32)           0         ['model1_conv2d_10[0][0]']    \n",
            " axPooling2D)                                                                                     \n",
            "                                                                                                  \n",
            " model2_max_pooling2d_16 (M  (None, 36, 36, 32)           0         ['model2_conv2d_16[0][0]']    \n",
            " axPooling2D)                                                                                     \n",
            "                                                                                                  \n",
            " model1_conv2d_11 (Conv2D)   (None, 34, 34, 64)           18496     ['model1_max_pooling2d_10[0][0\n",
            "                                                                    ]']                           \n",
            "                                                                                                  \n",
            " model2_conv2d_17 (Conv2D)   (None, 34, 34, 64)           18496     ['model2_max_pooling2d_16[0][0\n",
            "                                                                    ]']                           \n",
            "                                                                                                  \n",
            " model1_max_pooling2d_11 (M  (None, 17, 17, 64)           0         ['model1_conv2d_11[0][0]']    \n",
            " axPooling2D)                                                                                     \n",
            "                                                                                                  \n",
            " model2_max_pooling2d_17 (M  (None, 17, 17, 64)           0         ['model2_conv2d_17[0][0]']    \n",
            " axPooling2D)                                                                                     \n",
            "                                                                                                  \n",
            " model1_flatten_3 (Flatten)  (None, 18496)                0         ['model1_max_pooling2d_11[0][0\n",
            "                                                                    ]']                           \n",
            "                                                                                                  \n",
            " model2_flatten_5 (Flatten)  (None, 18496)                0         ['model2_max_pooling2d_17[0][0\n",
            "                                                                    ]']                           \n",
            "                                                                                                  \n",
            " model1_dropout_5 (Dropout)  (None, 18496)                0         ['model1_flatten_3[0][0]']    \n",
            "                                                                                                  \n",
            " model2_dropout_5 (Dropout)  (None, 18496)                0         ['model2_flatten_5[0][0]']    \n",
            "                                                                                                  \n",
            " model1_dense_8 (Dense)      (None, 64)                   1183808   ['model1_dropout_5[0][0]']    \n",
            "                                                                                                  \n",
            " model2_dense_10 (Dense)     (None, 64)                   1183808   ['model2_dropout_5[0][0]']    \n",
            "                                                                                                  \n",
            " model1_dense_9 (Dense)      (None, 1)                    65        ['model1_dense_8[0][0]']      \n",
            "                                                                                                  \n",
            " model2_dense_11 (Dense)     (None, 1)                    65        ['model2_dense_10[0][0]']     \n",
            "                                                                                                  \n",
            " average (Average)           (None, 1)                    0         ['model1_dense_9[0][0]',      \n",
            "                                                                     'model2_dense_11[0][0]']     \n",
            "                                                                                                  \n",
            "==================================================================================================\n",
            "Total params: 2414914 (9.21 MB)\n",
            "Trainable params: 2414914 (9.21 MB)\n",
            "Non-trainable params: 0 (0.00 Byte)\n",
            "__________________________________________________________________________________________________\n"
          ]
        }
      ]
    },
    {
      "cell_type": "code",
      "source": [
        "# Assuming you have data generators with the same batch size\n",
        "batch_size = 15  # Adjust this based on your actual batch size\n",
        "\n",
        "# Create a custom generator function with the specified batch size\n",
        "def custom_generator(generator1, generator2, batch_size):\n",
        "    while True:\n",
        "        data1, labels1 = generator1.next()\n",
        "        data2, labels2 = generator2.next()\n",
        "\n",
        "        # Ensure that both batches have the same size\n",
        "        data1 = data1[:batch_size]\n",
        "        labels1 = labels1[:batch_size]\n",
        "        data2 = data2[:batch_size]\n",
        "        labels2 = labels2[:batch_size]\n",
        "\n",
        "        yield [data1, data2], labels1\n",
        "\n",
        "# Compiling model gabungan\n",
        "combined_model.compile(optimizer='adam', loss='binary_crossentropy', metrics=['accuracy'])\n",
        "\n",
        "# Inspect generator output shapes\n",
        "for i in range(30):  # Print the shapes of the first 5 batches\n",
        "    data, labels = next(custom_generator(train_generator_buah, train_generator_daun, batch_size))\n",
        "    print(f\"Batch {i + 1}: Data shape={data[0].shape}, Labels shape={labels.shape}\")\n"
      ],
      "metadata": {
        "colab": {
          "base_uri": "https://localhost:8080/"
        },
        "id": "-i6xycScIqXB",
        "outputId": "0ef344eb-bb54-49d6-bf12-b3eda8ccb1bc"
      },
      "execution_count": 18,
      "outputs": [
        {
          "output_type": "stream",
          "name": "stdout",
          "text": [
            "Batch 1: Data shape=(15, 150, 150, 3), Labels shape=(15,)\n",
            "Batch 2: Data shape=(15, 150, 150, 3), Labels shape=(15,)\n",
            "Batch 3: Data shape=(15, 150, 150, 3), Labels shape=(15,)\n",
            "Batch 4: Data shape=(15, 150, 150, 3), Labels shape=(15,)\n",
            "Batch 5: Data shape=(15, 150, 150, 3), Labels shape=(15,)\n",
            "Batch 6: Data shape=(15, 150, 150, 3), Labels shape=(15,)\n",
            "Batch 7: Data shape=(15, 150, 150, 3), Labels shape=(15,)\n",
            "Batch 8: Data shape=(15, 150, 150, 3), Labels shape=(15,)\n",
            "Batch 9: Data shape=(15, 150, 150, 3), Labels shape=(15,)\n",
            "Batch 10: Data shape=(15, 150, 150, 3), Labels shape=(15,)\n",
            "Batch 11: Data shape=(15, 150, 150, 3), Labels shape=(15,)\n",
            "Batch 12: Data shape=(15, 150, 150, 3), Labels shape=(15,)\n",
            "Batch 13: Data shape=(15, 150, 150, 3), Labels shape=(15,)\n",
            "Batch 14: Data shape=(15, 150, 150, 3), Labels shape=(15,)\n",
            "Batch 15: Data shape=(15, 150, 150, 3), Labels shape=(15,)\n",
            "Batch 16: Data shape=(15, 150, 150, 3), Labels shape=(15,)\n",
            "Batch 17: Data shape=(15, 150, 150, 3), Labels shape=(15,)\n",
            "Batch 18: Data shape=(15, 150, 150, 3), Labels shape=(15,)\n",
            "Batch 19: Data shape=(15, 150, 150, 3), Labels shape=(15,)\n",
            "Batch 20: Data shape=(15, 150, 150, 3), Labels shape=(15,)\n",
            "Batch 21: Data shape=(15, 150, 150, 3), Labels shape=(15,)\n",
            "Batch 22: Data shape=(15, 150, 150, 3), Labels shape=(15,)\n",
            "Batch 23: Data shape=(15, 150, 150, 3), Labels shape=(15,)\n",
            "Batch 24: Data shape=(15, 150, 150, 3), Labels shape=(15,)\n",
            "Batch 25: Data shape=(15, 150, 150, 3), Labels shape=(15,)\n",
            "Batch 26: Data shape=(15, 150, 150, 3), Labels shape=(15,)\n",
            "Batch 27: Data shape=(15, 150, 150, 3), Labels shape=(15,)\n",
            "Batch 28: Data shape=(15, 150, 150, 3), Labels shape=(15,)\n",
            "Batch 29: Data shape=(15, 150, 150, 3), Labels shape=(15,)\n",
            "Batch 30: Data shape=(15, 150, 150, 3), Labels shape=(15,)\n"
          ]
        }
      ]
    },
    {
      "cell_type": "code",
      "source": [
        "combined_model.fit(\n",
        "    custom_generator(train_generator_buah, train_generator_combine2, batch_size),\n",
        "    epochs=15,\n",
        "    steps_per_epoch=len(train_generator_buah),\n",
        "    validation_data=custom_generator(valid_generator_buah, valid_generator_combine2, batch_size),\n",
        "    validation_steps=len(valid_generator_buah),\n",
        "    callbacks=[callbacks]\n",
        ")"
      ],
      "metadata": {
        "colab": {
          "base_uri": "https://localhost:8080/"
        },
        "id": "igzI0PvwJVEh",
        "outputId": "cebc3364-a602-4550-d9e6-9b272331e5ef"
      },
      "execution_count": 19,
      "outputs": [
        {
          "output_type": "stream",
          "name": "stdout",
          "text": [
            "Epoch 1/15\n",
            "16/16 [==============================] - 389s 26s/step - loss: 0.7088 - accuracy: 0.6292 - val_loss: 0.6776 - val_accuracy: 0.6667\n",
            "Epoch 2/15\n",
            "16/16 [==============================] - 305s 20s/step - loss: 0.5596 - accuracy: 0.7208 - val_loss: 0.6776 - val_accuracy: 0.7000\n",
            "Epoch 3/15\n",
            "16/16 [==============================] - 79s 5s/step - loss: 0.5519 - accuracy: 0.7417 - val_loss: 0.5339 - val_accuracy: 0.7333\n",
            "Epoch 4/15\n",
            "16/16 [==============================] - 24s 2s/step - loss: 0.5491 - accuracy: 0.7333 - val_loss: 0.6381 - val_accuracy: 0.6667\n",
            "Epoch 5/15\n",
            "16/16 [==============================] - 25s 2s/step - loss: 0.5180 - accuracy: 0.7667 - val_loss: 0.4644 - val_accuracy: 0.8667\n",
            "Epoch 6/15\n",
            "16/16 [==============================] - 26s 2s/step - loss: 0.5332 - accuracy: 0.7250 - val_loss: 0.5379 - val_accuracy: 0.8000\n",
            "Epoch 7/15\n",
            "16/16 [==============================] - 25s 2s/step - loss: 0.5660 - accuracy: 0.7167 - val_loss: 0.6284 - val_accuracy: 0.6333\n",
            "Epoch 8/15\n",
            "16/16 [==============================] - 25s 2s/step - loss: 0.5453 - accuracy: 0.7417 - val_loss: 0.7009 - val_accuracy: 0.6333\n",
            "Epoch 9/15\n",
            "16/16 [==============================] - 24s 2s/step - loss: 0.5074 - accuracy: 0.7958 - val_loss: 0.5426 - val_accuracy: 0.7333\n",
            "Epoch 10/15\n",
            "16/16 [==============================] - 28s 2s/step - loss: 0.5153 - accuracy: 0.7875 - val_loss: 0.6513 - val_accuracy: 0.6333\n",
            "Epoch 11/15\n",
            "16/16 [==============================] - 24s 2s/step - loss: 0.5110 - accuracy: 0.7875 - val_loss: 0.4849 - val_accuracy: 0.8000\n",
            "Epoch 12/15\n",
            "16/16 [==============================] - 25s 2s/step - loss: 0.4697 - accuracy: 0.8292 - val_loss: 0.5646 - val_accuracy: 0.7333\n",
            "Epoch 13/15\n",
            "16/16 [==============================] - 24s 2s/step - loss: 0.4965 - accuracy: 0.8083 - val_loss: 0.6487 - val_accuracy: 0.6000\n",
            "Epoch 14/15\n",
            "16/16 [==============================] - 26s 2s/step - loss: 0.4834 - accuracy: 0.8208 - val_loss: 0.5746 - val_accuracy: 0.6667\n",
            "Epoch 15/15\n",
            "16/16 [==============================] - 23s 1s/step - loss: 0.4968 - accuracy: 0.7833 - val_loss: 0.6517 - val_accuracy: 0.6000\n"
          ]
        },
        {
          "output_type": "execute_result",
          "data": {
            "text/plain": [
              "<keras.src.callbacks.History at 0x7c7e74c93ee0>"
            ]
          },
          "metadata": {},
          "execution_count": 19
        }
      ]
    },
    {
      "cell_type": "code",
      "source": [
        "# Save the entire model to a file\n",
        "combined_model.save(\"combinedbin_model.h5\")"
      ],
      "metadata": {
        "colab": {
          "base_uri": "https://localhost:8080/"
        },
        "id": "_QrOUACfymx4",
        "outputId": "90d88927-38a2-4975-f3cc-8074e88424f9"
      },
      "execution_count": 20,
      "outputs": [
        {
          "output_type": "stream",
          "name": "stderr",
          "text": [
            "/usr/local/lib/python3.10/dist-packages/keras/src/engine/training.py:3103: UserWarning: You are saving your model as an HDF5 file via `model.save()`. This file format is considered legacy. We recommend using instead the native Keras format, e.g. `model.save('my_model.keras')`.\n",
            "  saving_api.save_model(\n"
          ]
        }
      ]
    },
    {
      "cell_type": "markdown",
      "source": [
        "# Test\n"
      ],
      "metadata": {
        "id": "7UNYothHqUVl"
      }
    },
    {
      "cell_type": "code",
      "source": [
        "# Assuming you have labels for your test data (replace 'combine2_labels' with your actual labels)\n",
        "labels = test_generator_combine2.classes\n",
        "\n",
        "# Make predictions using the test generator\n",
        "test_predictions1 = model1.predict(test_generator_combine2)\n",
        "test_predictions2 = model2.predict(test_generator_combine2)\n",
        "\n",
        "# Now, the arrays have consistent shapes\n",
        "average_test_predictions = np.average([test_predictions1, test_predictions2], axis=0)\n",
        "\n",
        "# Make predictions using the new model on the test data\n",
        "new_model_predictions = combined_model.predict(np.squeeze(average_test_predictions, axis=1))\n",
        "\n",
        "# Convert probabilities to binary predictions based on the threshold\n",
        "threshold = 0.5  # You can adjust the threshold based on your problem\n",
        "\n",
        "binary_predictions = (new_model_predictions > threshold).astype(int)\n",
        "\n",
        "# Map binary predictions to 'sehat' and 'sakit'\n",
        "class_labels = ['sehat', 'sakit']\n",
        "mapped_predictions = [class_labels[int(prediction)] for prediction in binary_predictions]\n",
        "\n",
        "# Print the mapped predictions\n",
        "print(\"Mapped Predictions:\")\n",
        "print(mapped_predictions)\n"
      ],
      "metadata": {
        "colab": {
          "base_uri": "https://localhost:8080/",
          "height": 402
        },
        "id": "E81Y6-WhHsrE",
        "outputId": "b7ec83f7-5d1d-47f2-cfaa-75d407148d92"
      },
      "execution_count": 38,
      "outputs": [
        {
          "output_type": "stream",
          "name": "stdout",
          "text": [
            "213/213 [==============================] - 7s 35ms/step\n"
          ]
        },
        {
          "output_type": "error",
          "ename": "KeyboardInterrupt",
          "evalue": "ignored",
          "traceback": [
            "\u001b[0;31m---------------------------------------------------------------------------\u001b[0m",
            "\u001b[0;31mKeyboardInterrupt\u001b[0m                         Traceback (most recent call last)",
            "\u001b[0;32m<ipython-input-38-a0baed9dc3ac>\u001b[0m in \u001b[0;36m<cell line: 5>\u001b[0;34m()\u001b[0m\n\u001b[1;32m      3\u001b[0m \u001b[0;34m\u001b[0m\u001b[0m\n\u001b[1;32m      4\u001b[0m \u001b[0;31m# Make predictions using the test generator\u001b[0m\u001b[0;34m\u001b[0m\u001b[0;34m\u001b[0m\u001b[0m\n\u001b[0;32m----> 5\u001b[0;31m \u001b[0mtest_predictions1\u001b[0m \u001b[0;34m=\u001b[0m \u001b[0mmodel1\u001b[0m\u001b[0;34m.\u001b[0m\u001b[0mpredict\u001b[0m\u001b[0;34m(\u001b[0m\u001b[0mtest_generator_combine2\u001b[0m\u001b[0;34m)\u001b[0m\u001b[0;34m\u001b[0m\u001b[0;34m\u001b[0m\u001b[0m\n\u001b[0m\u001b[1;32m      6\u001b[0m \u001b[0mtest_predictions2\u001b[0m \u001b[0;34m=\u001b[0m \u001b[0mmodel2\u001b[0m\u001b[0;34m.\u001b[0m\u001b[0mpredict\u001b[0m\u001b[0;34m(\u001b[0m\u001b[0mtest_generator_combine2\u001b[0m\u001b[0;34m)\u001b[0m\u001b[0;34m\u001b[0m\u001b[0;34m\u001b[0m\u001b[0m\n\u001b[1;32m      7\u001b[0m \u001b[0;34m\u001b[0m\u001b[0m\n",
            "\u001b[0;32m/usr/local/lib/python3.10/dist-packages/keras/src/utils/traceback_utils.py\u001b[0m in \u001b[0;36merror_handler\u001b[0;34m(*args, **kwargs)\u001b[0m\n\u001b[1;32m     63\u001b[0m         \u001b[0mfiltered_tb\u001b[0m \u001b[0;34m=\u001b[0m \u001b[0;32mNone\u001b[0m\u001b[0;34m\u001b[0m\u001b[0;34m\u001b[0m\u001b[0m\n\u001b[1;32m     64\u001b[0m         \u001b[0;32mtry\u001b[0m\u001b[0;34m:\u001b[0m\u001b[0;34m\u001b[0m\u001b[0;34m\u001b[0m\u001b[0m\n\u001b[0;32m---> 65\u001b[0;31m             \u001b[0;32mreturn\u001b[0m \u001b[0mfn\u001b[0m\u001b[0;34m(\u001b[0m\u001b[0;34m*\u001b[0m\u001b[0margs\u001b[0m\u001b[0;34m,\u001b[0m \u001b[0;34m**\u001b[0m\u001b[0mkwargs\u001b[0m\u001b[0;34m)\u001b[0m\u001b[0;34m\u001b[0m\u001b[0;34m\u001b[0m\u001b[0m\n\u001b[0m\u001b[1;32m     66\u001b[0m         \u001b[0;32mexcept\u001b[0m \u001b[0mException\u001b[0m \u001b[0;32mas\u001b[0m \u001b[0me\u001b[0m\u001b[0;34m:\u001b[0m\u001b[0;34m\u001b[0m\u001b[0;34m\u001b[0m\u001b[0m\n\u001b[1;32m     67\u001b[0m             \u001b[0mfiltered_tb\u001b[0m \u001b[0;34m=\u001b[0m \u001b[0m_process_traceback_frames\u001b[0m\u001b[0;34m(\u001b[0m\u001b[0me\u001b[0m\u001b[0;34m.\u001b[0m\u001b[0m__traceback__\u001b[0m\u001b[0;34m)\u001b[0m\u001b[0;34m\u001b[0m\u001b[0;34m\u001b[0m\u001b[0m\n",
            "\u001b[0;31mKeyboardInterrupt\u001b[0m: "
          ]
        }
      ]
    },
    {
      "cell_type": "markdown",
      "source": [
        "# Test 2\n"
      ],
      "metadata": {
        "id": "1l3viWeLnWOP"
      }
    },
    {
      "cell_type": "code",
      "source": [
        "import os\n",
        "import numpy as np\n",
        "from tensorflow.keras.preprocessing import image\n",
        "from tensorflow.keras.models import load_model, Model\n",
        "\n",
        "# Load your model before making predictions\n",
        "average_predictions = load_model('/content/combinedbin_model.h5')\n",
        "\n",
        "# Print the summary to understand the model architecture\n",
        "average_predictions.summary()\n"
      ],
      "metadata": {
        "colab": {
          "base_uri": "https://localhost:8080/"
        },
        "id": "gTyPGrUla729",
        "outputId": "8bc52a94-e15c-4d05-8283-5347b4718436"
      },
      "execution_count": 39,
      "outputs": [
        {
          "output_type": "stream",
          "name": "stdout",
          "text": [
            "Model: \"model\"\n",
            "__________________________________________________________________________________________________\n",
            " Layer (type)                Output Shape                 Param #   Connected to                  \n",
            "==================================================================================================\n",
            " conv2d_9_input (InputLayer  [(None, 150, 150, 3)]        0         []                            \n",
            " )                                                                                                \n",
            "                                                                                                  \n",
            " conv2d_15_input (InputLaye  [(None, 150, 150, 3)]        0         []                            \n",
            " r)                                                                                               \n",
            "                                                                                                  \n",
            " model1_conv2d_9 (Conv2D)    (None, 150, 150, 16)         448       ['conv2d_9_input[0][0]']      \n",
            "                                                                                                  \n",
            " model2_conv2d_15 (Conv2D)   (None, 148, 148, 16)         448       ['conv2d_15_input[0][0]']     \n",
            "                                                                                                  \n",
            " model1_max_pooling2d_9 (Ma  (None, 75, 75, 16)           0         ['model1_conv2d_9[0][0]']     \n",
            " xPooling2D)                                                                                      \n",
            "                                                                                                  \n",
            " model2_max_pooling2d_15 (M  (None, 74, 74, 16)           0         ['model2_conv2d_15[0][0]']    \n",
            " axPooling2D)                                                                                     \n",
            "                                                                                                  \n",
            " model1_conv2d_10 (Conv2D)   (None, 73, 73, 32)           4640      ['model1_max_pooling2d_9[0][0]\n",
            "                                                                    ']                            \n",
            "                                                                                                  \n",
            " model2_conv2d_16 (Conv2D)   (None, 72, 72, 32)           4640      ['model2_max_pooling2d_15[0][0\n",
            "                                                                    ]']                           \n",
            "                                                                                                  \n",
            " model1_max_pooling2d_10 (M  (None, 36, 36, 32)           0         ['model1_conv2d_10[0][0]']    \n",
            " axPooling2D)                                                                                     \n",
            "                                                                                                  \n",
            " model2_max_pooling2d_16 (M  (None, 36, 36, 32)           0         ['model2_conv2d_16[0][0]']    \n",
            " axPooling2D)                                                                                     \n",
            "                                                                                                  \n",
            " model1_conv2d_11 (Conv2D)   (None, 34, 34, 64)           18496     ['model1_max_pooling2d_10[0][0\n",
            "                                                                    ]']                           \n",
            "                                                                                                  \n",
            " model2_conv2d_17 (Conv2D)   (None, 34, 34, 64)           18496     ['model2_max_pooling2d_16[0][0\n",
            "                                                                    ]']                           \n",
            "                                                                                                  \n",
            " model1_max_pooling2d_11 (M  (None, 17, 17, 64)           0         ['model1_conv2d_11[0][0]']    \n",
            " axPooling2D)                                                                                     \n",
            "                                                                                                  \n",
            " model2_max_pooling2d_17 (M  (None, 17, 17, 64)           0         ['model2_conv2d_17[0][0]']    \n",
            " axPooling2D)                                                                                     \n",
            "                                                                                                  \n",
            " model1_flatten_3 (Flatten)  (None, 18496)                0         ['model1_max_pooling2d_11[0][0\n",
            "                                                                    ]']                           \n",
            "                                                                                                  \n",
            " model2_flatten_5 (Flatten)  (None, 18496)                0         ['model2_max_pooling2d_17[0][0\n",
            "                                                                    ]']                           \n",
            "                                                                                                  \n",
            " model1_dropout_5 (Dropout)  (None, 18496)                0         ['model1_flatten_3[0][0]']    \n",
            "                                                                                                  \n",
            " model2_dropout_5 (Dropout)  (None, 18496)                0         ['model2_flatten_5[0][0]']    \n",
            "                                                                                                  \n",
            " model1_dense_8 (Dense)      (None, 64)                   1183808   ['model1_dropout_5[0][0]']    \n",
            "                                                                                                  \n",
            " model2_dense_10 (Dense)     (None, 64)                   1183808   ['model2_dropout_5[0][0]']    \n",
            "                                                                                                  \n",
            " model1_dense_9 (Dense)      (None, 1)                    65        ['model1_dense_8[0][0]']      \n",
            "                                                                                                  \n",
            " model2_dense_11 (Dense)     (None, 1)                    65        ['model2_dense_10[0][0]']     \n",
            "                                                                                                  \n",
            " average (Average)           (None, 1)                    0         ['model1_dense_9[0][0]',      \n",
            "                                                                     'model2_dense_11[0][0]']     \n",
            "                                                                                                  \n",
            "==================================================================================================\n",
            "Total params: 2414914 (9.21 MB)\n",
            "Trainable params: 2414914 (9.21 MB)\n",
            "Non-trainable params: 0 (0.00 Byte)\n",
            "__________________________________________________________________________________________________\n"
          ]
        }
      ]
    },
    {
      "cell_type": "code",
      "source": [
        "for i in range(len(test_generator_combine2)):\n",
        "    x_img, labels = test_generator_combine2[i]\n",
        "\n",
        "    # Assuming the first channels are for 'conv2d_9_input'\n",
        "    # and the remaining channels are for 'conv2d_15_input'\n",
        "    num_channels_model1 = 3  # Adjust this based on the actual number of channels for 'conv2d_9_input'\n",
        "    x_img_model1 = x_img[:, :, :, :num_channels_model1]\n",
        "\n",
        "    # Assuming the last channels are for 'conv2d_15_input'\n",
        "    x_img_model2 = x_img[:, :, :, :num_channels_model1]\n",
        "\n",
        "    # Use the model to make predictions with the image data\n",
        "    classes = average_predictions.predict([x_img_model1, x_img_model2])\n",
        "\n",
        "    # Process the predictions as needed\n",
        "    for j in range(len(labels)):\n",
        "        print(classes[j][0])\n",
        "\n",
        "        if classes[j][0] > 0.5:\n",
        "            print(test_generator_combine2.filenames[i * test_generator_combine2.batch_size + j] + \" sehat\")\n",
        "        else:\n",
        "            print(test_generator_combine2.filenames[i * test_generator_combine2.batch_size + j] + \" sakit\")"
      ],
      "metadata": {
        "colab": {
          "base_uri": "https://localhost:8080/"
        },
        "id": "dqfQNyzjmkt3",
        "outputId": "cd7e6e9c-8144-4620-aa83-c50d3a7a1ff9"
      },
      "execution_count": 44,
      "outputs": [
        {
          "output_type": "stream",
          "name": "stdout",
          "text": [
            "1/1 [==============================] - 0s 56ms/step\n",
            "0.24993542\n",
            "Unhealthy/01dfb88b-cd5a-420c-b163-51f5fe07b74d___JR_B.Spot 9091.JPG sakit\n",
            "1/1 [==============================] - 0s 56ms/step\n",
            "0.25114107\n",
            "Unhealthy/10-Copy_png.rf.8eb8d8caf33c39181b5b3fc771207f4d.jpg sakit\n",
            "1/1 [==============================] - 0s 60ms/step\n",
            "0.25422558\n",
            "Unhealthy/144352ee-0f8d-44cc-9db1-c4f27eb5a00a___GCREC_Bact.Sp 3284.JPG sakit\n",
            "1/1 [==============================] - 0s 60ms/step\n",
            "0.2350417\n",
            "Unhealthy/16_png.rf.7ac17f4c2d33667b3bddb866e982b1dc.jpg sakit\n",
            "1/1 [==============================] - 0s 62ms/step\n",
            "0.25767332\n",
            "Unhealthy/32-Copy_jpg.rf.ca590ae6752b0fed85298037f6b2bb6d.jpg sakit\n",
            "1/1 [==============================] - 0s 96ms/step\n",
            "0.2743054\n",
            "Unhealthy/37592d17-06d6-492a-a469-3726396ad71b___GCREC_Bact.Sp 5560.JPG sakit\n",
            "1/1 [==============================] - 0s 66ms/step\n",
            "0.24189581\n",
            "Unhealthy/41_jpg.rf.d939e26e6e7578bc19aa3c486cd38c63.jpg sakit\n",
            "1/1 [==============================] - 0s 118ms/step\n",
            "0.23893505\n",
            "Unhealthy/46638af1-9027-42c5-a5c0-03d6b684f975___UF.GRC_BS_Lab Leaf 0217.JPG sakit\n",
            "1/1 [==============================] - 0s 73ms/step\n",
            "0.23681225\n",
            "Unhealthy/47798da0-ff59-497e-a2bb-e169c9138a7e___GCREC_Bact.Sp 3120.JPG sakit\n",
            "1/1 [==============================] - 0s 62ms/step\n",
            "0.34194684\n",
            "Unhealthy/60-Copy_jpg.rf.ccd0aff6ebb38371a73b40347563f1f2.jpg sakit\n",
            "1/1 [==============================] - 0s 68ms/step\n",
            "0.23997301\n",
            "Unhealthy/65476dd0-6a5b-4623-b97d-96d74dcdbe03___GCREC_Bact.Sp 3842.JPG sakit\n",
            "1/1 [==============================] - 0s 49ms/step\n",
            "0.25648937\n",
            "Unhealthy/72617b0d-a051-4296-a577-5cfd1539d1a9___GCREC_Bact.Sp 2960.JPG sakit\n",
            "1/1 [==============================] - 0s 55ms/step\n",
            "0.5661932\n",
            "Unhealthy/7_jpg.rf.4d6d270adbc5c636a0b6745ee4d275bd.jpg sehat\n",
            "1/1 [==============================] - 0s 57ms/step\n",
            "0.5090134\n",
            "Unhealthy/82c232bae9b36ccd.jpg sehat\n",
            "1/1 [==============================] - 0s 59ms/step\n",
            "0.42467293\n",
            "Unhealthy/82c9deec3e39d8c0.jpg sakit\n",
            "1/1 [==============================] - 0s 54ms/step\n",
            "0.69706774\n",
            "Unhealthy/83ac2ccacb0fd2b9.jpg sehat\n",
            "1/1 [==============================] - 0s 52ms/step\n",
            "0.3869379\n",
            "Unhealthy/84bc36cccfa42b6a.jpg sakit\n",
            "1/1 [==============================] - 0s 53ms/step\n",
            "0.27618942\n",
            "Unhealthy/85c232ef5da06ab9.jpg sakit\n",
            "1/1 [==============================] - 0s 59ms/step\n",
            "0.28677377\n",
            "Unhealthy/85ec3f0705065df9.jpg sakit\n",
            "1/1 [==============================] - 0s 55ms/step\n",
            "0.238391\n",
            "Unhealthy/86561a43-33f2-4e52-bd0f-a6ed767feef6___GCREC_Bact.Sp 6255.JPG sakit\n",
            "1/1 [==============================] - 0s 52ms/step\n",
            "0.38271868\n",
            "Unhealthy/87b516b8b82169d7.jpg sakit\n",
            "1/1 [==============================] - 0s 54ms/step\n",
            "0.25447917\n",
            "Unhealthy/88374bc5-deba-4ad3-b45a-8996cc76fe97___GCREC_Bact.Sp 3803.JPG sakit\n",
            "1/1 [==============================] - 0s 61ms/step\n",
            "0.25418895\n",
            "Unhealthy/88952ffa-2794-4088-8e71-ea69de1dc141___GCREC_Bact.Sp 3612.JPG sakit\n",
            "1/1 [==============================] - 0s 52ms/step\n",
            "0.32240474\n",
            "Unhealthy/8fba25d912583ba6.jpg sakit\n",
            "1/1 [==============================] - 0s 71ms/step\n",
            "0.24414787\n",
            "Unhealthy/91592d84-fcea-49ca-a09a-752c12b4d3fe___GCREC_Bact.Sp 3093.JPG sakit\n",
            "1/1 [==============================] - 0s 56ms/step\n",
            "0.35718608\n",
            "Unhealthy/99044ddb-da2a-4b32-bc11-67e57cb2b807___UF.GRC_BS_Lab Leaf 0749.JPG sakit\n",
            "1/1 [==============================] - 0s 53ms/step\n",
            "0.2626798\n",
            "Unhealthy/9_JPG_jpg.rf.67223fcb185fdb2ccdd1ac1980c4dab9.jpg sakit\n",
            "1/1 [==============================] - 0s 54ms/step\n",
            "0.40949506\n",
            "Unhealthy/9aca43c4b01debe3.jpg sakit\n",
            "1/1 [==============================] - 0s 65ms/step\n",
            "0.49236128\n",
            "Unhealthy/9b3648259a994f6d.jpg sakit\n",
            "1/1 [==============================] - 0s 52ms/step\n",
            "0.23696952\n",
            "Unhealthy/b2ec0cf59931f033.jpg sakit\n",
            "1/1 [==============================] - 0s 52ms/step\n",
            "0.2403041\n",
            "Unhealthy/b4cf174048e61de7.jpg sakit\n",
            "1/1 [==============================] - 0s 32ms/step\n",
            "0.25520548\n",
            "Unhealthy/photo_2020-06-27_23-53-57.jpg sakit\n",
            "1/1 [==============================] - 0s 34ms/step\n",
            "0.26743287\n",
            "Unhealthy/photo_2020-06-27_23-54-14.jpg sakit\n",
            "1/1 [==============================] - 0s 38ms/step\n",
            "0.26363936\n",
            "Unhealthy/photo_2020-06-27_23-54-19.jpg sakit\n",
            "1/1 [==============================] - 0s 38ms/step\n",
            "0.2969441\n",
            "Unhealthy/photo_2020-06-27_23-54-22.jpg sakit\n",
            "1/1 [==============================] - 0s 37ms/step\n",
            "0.29314288\n",
            "Unhealthy/photo_2020-06-27_23-54-27.jpg sakit\n",
            "1/1 [==============================] - 0s 32ms/step\n",
            "0.69392556\n",
            "Unhealthy/rottenCarrot (8).jpg sehat\n",
            "1/1 [==============================] - 0s 33ms/step\n",
            "0.7441421\n",
            "Unhealthy/rottenCucumber (261).jpg sehat\n",
            "1/1 [==============================] - 0s 44ms/step\n",
            "0.24920593\n",
            "Unhealthy/rottenCucumber (266).jpg sakit\n",
            "1/1 [==============================] - 0s 38ms/step\n",
            "0.7234384\n",
            "Unhealthy/rottenCucumber (272).jpg sehat\n",
            "1/1 [==============================] - 0s 36ms/step\n",
            "0.7342036\n",
            "Unhealthy/rottenCucumber (288).jpg sehat\n",
            "1/1 [==============================] - 0s 37ms/step\n",
            "0.257447\n",
            "Unhealthy/rottenCucumber (289).jpg sakit\n",
            "1/1 [==============================] - 0s 35ms/step\n",
            "0.7544621\n",
            "Unhealthy/rottenCucumber (308).jpg sehat\n",
            "1/1 [==============================] - 0s 31ms/step\n",
            "0.74498504\n",
            "Unhealthy/rottenMango (3).jpg sehat\n",
            "1/1 [==============================] - 0s 34ms/step\n",
            "0.7534809\n",
            "Unhealthy/rottenOrange (14).jpg sehat\n",
            "1/1 [==============================] - 0s 32ms/step\n",
            "0.7524647\n",
            "Unhealthy/rottenOrange (18).jpg sehat\n",
            "1/1 [==============================] - 0s 34ms/step\n",
            "0.74137247\n",
            "Unhealthy/rottenOrange (3).jpg sehat\n",
            "1/1 [==============================] - 0s 35ms/step\n",
            "0.27119628\n",
            "Unhealthy/rottenPepper (104).jpg sakit\n",
            "1/1 [==============================] - 0s 38ms/step\n",
            "0.7529925\n",
            "Unhealthy/rottenPepper (105).jpg sehat\n",
            "1/1 [==============================] - 0s 36ms/step\n",
            "0.26891094\n",
            "Unhealthy/rottenPepper (110).jpg sakit\n",
            "1/1 [==============================] - 0s 36ms/step\n",
            "0.74741304\n",
            "Unhealthy/rottenPepper (133).jpg sehat\n",
            "1/1 [==============================] - 0s 32ms/step\n",
            "0.7593479\n",
            "Unhealthy/rottenPepper (139).jpg sehat\n",
            "1/1 [==============================] - 0s 32ms/step\n",
            "0.706893\n",
            "Unhealthy/rottenPepper (87).jpg sehat\n",
            "1/1 [==============================] - 0s 34ms/step\n",
            "0.71248806\n",
            "Unhealthy/rottenPepper (91).jpg sehat\n",
            "1/1 [==============================] - 0s 34ms/step\n",
            "0.70656765\n",
            "Unhealthy/rottenPotato (17).jpg sehat\n",
            "1/1 [==============================] - 0s 32ms/step\n",
            "0.7502179\n",
            "Unhealthy/rottenPotato (19).jpg sehat\n",
            "1/1 [==============================] - 0s 40ms/step\n",
            "0.7446812\n",
            "Unhealthy/rottenPotato (21).jpg sehat\n",
            "1/1 [==============================] - 0s 35ms/step\n",
            "0.3486859\n",
            "Unhealthy/rottenPotato (23).jpg sakit\n",
            "1/1 [==============================] - 0s 38ms/step\n",
            "0.67290014\n",
            "Unhealthy/rottenTomato (21).jpg sehat\n",
            "1/1 [==============================] - 0s 41ms/step\n",
            "0.6736596\n",
            "Unhealthy/rottenTomato (35).jpg sehat\n",
            "1/1 [==============================] - 0s 39ms/step\n",
            "0.6785215\n",
            "Unhealthy/rottenTomato (44).jpg sehat\n",
            "1/1 [==============================] - 0s 36ms/step\n",
            "0.33529347\n",
            "Unhealthy/rottenTomato (46).jpg sakit\n",
            "1/1 [==============================] - 0s 31ms/step\n",
            "0.7439861\n",
            "Unhealthy/rottenTomato (56).jpg sehat\n",
            "1/1 [==============================] - 0s 33ms/step\n",
            "0.23945361\n",
            "Unhealthy/sd48_png.rf.dd069a9695cd504b9ca595d8ef54ee03.jpg sakit\n",
            "1/1 [==============================] - 0s 37ms/step\n",
            "0.24938272\n",
            "Unhealthy/spinach_anthrac17_jpg.rf.1ed0631bfe3c3cec4e34fde41fd7c709.jpg sakit\n",
            "1/1 [==============================] - 0s 37ms/step\n",
            "0.2357865\n",
            "Unhealthy/spinach_anthrac22_jpg.rf.be4a16b35129e6a151e66ae33fac176b.jpg sakit\n",
            "1/1 [==============================] - 0s 36ms/step\n",
            "0.25267446\n",
            "Unhealthy/spinach_anthrac3_jpg.rf.4ff259fd62d0cb597a9734ad29e9c0d7.jpg sakit\n",
            "1/1 [==============================] - 0s 38ms/step\n",
            "0.25267446\n",
            "Unhealthy/spinach_anthrac3_jpg.rf.79d968e81a29f1c826637fc8c70a71b0.jpg sakit\n",
            "1/1 [==============================] - 0s 38ms/step\n",
            "0.25253543\n",
            "healthy/Carrot1.jpg sakit\n",
            "1/1 [==============================] - 0s 34ms/step\n",
            "0.2544293\n",
            "healthy/Carrot13.jpeg sakit\n",
            "1/1 [==============================] - 0s 34ms/step\n",
            "0.2537375\n",
            "healthy/Carrot16.jpg sakit\n",
            "1/1 [==============================] - 0s 36ms/step\n",
            "0.5965942\n",
            "healthy/Carrot3.jpg sehat\n",
            "1/1 [==============================] - 0s 38ms/step\n",
            "0.30058828\n",
            "healthy/Copy of BELUM SIAP_0_6718.jpg sakit\n",
            "1/1 [==============================] - 0s 36ms/step\n",
            "0.29628402\n",
            "healthy/Copy of BELUM SIAP_0_7160.jpg sakit\n",
            "1/1 [==============================] - 0s 42ms/step\n",
            "0.44543314\n",
            "healthy/Copy of Cabbage48.jpg sakit\n",
            "1/1 [==============================] - 0s 38ms/step\n",
            "0.27096403\n",
            "healthy/Copy of Cabbage60.jpg sakit\n",
            "1/1 [==============================] - 0s 38ms/step\n",
            "0.24916112\n",
            "healthy/Copy of Cabbage61.jpg sakit\n",
            "1/1 [==============================] - 0s 36ms/step\n",
            "0.3153995\n",
            "healthy/Copy of Cabbage69.jpg sakit\n",
            "1/1 [==============================] - 0s 38ms/step\n",
            "0.26544347\n",
            "healthy/Copy of Cabbage75.jpg sakit\n",
            "1/1 [==============================] - 0s 33ms/step\n",
            "0.24166587\n",
            "healthy/Copy of Cabbage89.jpg sakit\n",
            "1/1 [==============================] - 0s 35ms/step\n",
            "0.2360555\n",
            "healthy/Copy of Cabbage91.jpg sakit\n",
            "1/1 [==============================] - 0s 38ms/step\n",
            "0.30058828\n",
            "healthy/Copy of Copy of BELUM SIAP_0_6718.jpg sakit\n",
            "1/1 [==============================] - 0s 36ms/step\n",
            "0.29628402\n",
            "healthy/Copy of Copy of BELUM SIAP_0_7160.jpg sakit\n",
            "1/1 [==============================] - 0s 44ms/step\n",
            "0.44543314\n",
            "healthy/Copy of Copy of Cabbage48.jpg sakit\n",
            "1/1 [==============================] - 0s 36ms/step\n",
            "0.27096403\n",
            "healthy/Copy of Copy of Cabbage60.jpg sakit\n",
            "1/1 [==============================] - 0s 40ms/step\n",
            "0.24916112\n",
            "healthy/Copy of Copy of Cabbage61.jpg sakit\n",
            "1/1 [==============================] - 0s 51ms/step\n",
            "0.3153995\n",
            "healthy/Copy of Copy of Cabbage69.jpg sakit\n",
            "1/1 [==============================] - 0s 39ms/step\n",
            "0.26544347\n",
            "healthy/Copy of Copy of Cabbage75.jpg sakit\n",
            "1/1 [==============================] - 0s 37ms/step\n",
            "0.24166587\n",
            "healthy/Copy of Copy of Cabbage89.jpg sakit\n",
            "1/1 [==============================] - 0s 37ms/step\n",
            "0.2360555\n",
            "healthy/Copy of Copy of Cabbage91.jpg sakit\n",
            "1/1 [==============================] - 0s 37ms/step\n",
            "0.246034\n",
            "healthy/Copy of Copy of SIAP PANEN_0_4084.jpg sakit\n",
            "1/1 [==============================] - 0s 50ms/step\n",
            "0.2356716\n",
            "healthy/Copy of Copy of SIAP PANEN_0_5001.jpg sakit\n",
            "1/1 [==============================] - 0s 38ms/step\n",
            "0.24255195\n",
            "healthy/Copy of Copy of SIAP PANEN_0_5863.jpg sakit\n",
            "1/1 [==============================] - 0s 35ms/step\n",
            "0.2540135\n",
            "healthy/Copy of Copy of SIAP PANEN_0_6296.jpg sakit\n",
            "1/1 [==============================] - 0s 37ms/step\n",
            "0.2521903\n",
            "healthy/Copy of Copy of SIAP PANEN_0_6345.jpg sakit\n",
            "1/1 [==============================] - 0s 37ms/step\n",
            "0.22960635\n",
            "healthy/Copy of Copy of SIAP PANEN_0_7276.jpg sakit\n",
            "1/1 [==============================] - 0s 33ms/step\n",
            "0.7470957\n",
            "healthy/Copy of Copy of p28.png sehat\n",
            "1/1 [==============================] - 0s 33ms/step\n",
            "0.27469772\n",
            "healthy/Copy of Copy of p29.png sakit\n",
            "1/1 [==============================] - 0s 34ms/step\n",
            "0.32004827\n",
            "healthy/Copy of Copy of p32.png sakit\n",
            "1/1 [==============================] - 0s 34ms/step\n",
            "0.43129063\n",
            "healthy/Copy of Copy of p33.png sakit\n",
            "1/1 [==============================] - 0s 38ms/step\n",
            "0.67341614\n",
            "healthy/Copy of Copy of p37.png sehat\n",
            "1/1 [==============================] - 0s 36ms/step\n",
            "0.23763603\n",
            "healthy/Copy of Copy of p40.png sakit\n",
            "1/1 [==============================] - 0s 49ms/step\n",
            "0.22701013\n",
            "healthy/Copy of Copy of p47.png sakit\n",
            "1/1 [==============================] - 0s 46ms/step\n",
            "0.23715308\n",
            "healthy/Copy of Copy of p48.png sakit\n",
            "1/1 [==============================] - 0s 31ms/step\n",
            "0.2423579\n",
            "healthy/Copy of Copy of p50.png sakit\n",
            "1/1 [==============================] - 0s 32ms/step\n",
            "0.24769728\n",
            "healthy/Copy of Copy of p57.png sakit\n",
            "1/1 [==============================] - 0s 33ms/step\n",
            "0.25186327\n",
            "healthy/Copy of Copy of p61.png sakit\n",
            "1/1 [==============================] - 0s 36ms/step\n",
            "0.25195426\n",
            "healthy/Copy of Copy of p62.png sakit\n",
            "1/1 [==============================] - 0s 34ms/step\n",
            "0.4055441\n",
            "healthy/Copy of Copy of p65.png sakit\n",
            "1/1 [==============================] - 0s 46ms/step\n",
            "0.246034\n",
            "healthy/Copy of SIAP PANEN_0_4084.jpg sakit\n",
            "1/1 [==============================] - 0s 57ms/step\n",
            "0.2356716\n",
            "healthy/Copy of SIAP PANEN_0_5001.jpg sakit\n",
            "1/1 [==============================] - 0s 79ms/step\n",
            "0.24255195\n",
            "healthy/Copy of SIAP PANEN_0_5863.jpg sakit\n",
            "1/1 [==============================] - 0s 159ms/step\n",
            "0.2540135\n",
            "healthy/Copy of SIAP PANEN_0_6296.jpg sakit\n",
            "1/1 [==============================] - 0s 109ms/step\n",
            "0.2521903\n",
            "healthy/Copy of SIAP PANEN_0_6345.jpg sakit\n",
            "1/1 [==============================] - 0s 178ms/step\n",
            "0.22960635\n",
            "healthy/Copy of SIAP PANEN_0_7276.jpg sakit\n",
            "1/1 [==============================] - 0s 191ms/step\n",
            "0.23589548\n",
            "healthy/Copy of Salinan IMG20200629183330.jpg sakit\n",
            "1/1 [==============================] - 0s 54ms/step\n",
            "0.32872826\n",
            "healthy/Copy of Salinan IMG20200629183341.jpg sakit\n",
            "1/1 [==============================] - 0s 56ms/step\n",
            "0.24118167\n",
            "healthy/Copy of Salinan IMG20200629183350.jpg sakit\n",
            "1/1 [==============================] - 0s 55ms/step\n",
            "0.27107584\n",
            "healthy/Copy of Salinan IMG20200629183351.jpg sakit\n",
            "1/1 [==============================] - 0s 74ms/step\n",
            "0.2502422\n",
            "healthy/Copy of Salinan IMG20200629183352.jpg sakit\n",
            "1/1 [==============================] - 0s 55ms/step\n",
            "0.26318556\n",
            "healthy/Copy of Salinan IMG20200629183403.jpg sakit\n",
            "1/1 [==============================] - 0s 58ms/step\n",
            "0.23466848\n",
            "healthy/Copy of Salinan IMG20200629183416.jpg sakit\n",
            "1/1 [==============================] - 0s 61ms/step\n",
            "0.23945421\n",
            "healthy/Copy of Salinan IMG20200629183426.jpg sakit\n",
            "1/1 [==============================] - 0s 56ms/step\n",
            "0.5767501\n",
            "healthy/Copy of Salinan f60f6c8b-54f7-4002-b26d-636037912c4d___RS_HL 9956.JPG sehat\n",
            "1/1 [==============================] - 0s 56ms/step\n",
            "0.35962915\n",
            "healthy/Copy of Salinan f7069452-9405-45a6-bfb3-f21ea42b9b02___RS_HL 9966.JPG sakit\n",
            "1/1 [==============================] - 0s 50ms/step\n",
            "0.6583237\n",
            "healthy/Copy of Salinan f96987aa-d19d-415b-a68c-73a07a47d521___RS_HL 9736.JPG sehat\n",
            "1/1 [==============================] - 0s 55ms/step\n",
            "0.56581676\n",
            "healthy/Copy of Salinan fb084c48-8c42-43a1-8193-191ba873bd2d___GH_HL Leaf 514.1.JPG sehat\n",
            "1/1 [==============================] - 0s 51ms/step\n",
            "0.25146475\n",
            "healthy/Copy of Salinan fcfb486e-63dc-405c-8a17-0551e5f76959___RS_HL 9663.JPG sakit\n",
            "1/1 [==============================] - 0s 56ms/step\n",
            "0.31116578\n",
            "healthy/Copy of Salinan fd09836b-96be-498a-a720-e17a54522de7___RS_HL 9687.JPG sakit\n",
            "1/1 [==============================] - 0s 51ms/step\n",
            "0.7328156\n",
            "healthy/Copy of Salinan fd1db002-680b-432b-9d60-68b80a4a310f___RS_HL 0049.JPG sehat\n",
            "1/1 [==============================] - 0s 67ms/step\n",
            "0.7180767\n",
            "healthy/Copy of Salinan fd27de23-27cd-4f09-a962-df0b26899b07___RS_HL 0039.JPG sehat\n",
            "1/1 [==============================] - 0s 67ms/step\n",
            "0.23678413\n",
            "healthy/Copy of Salinan fd2fa9cc-2147-40ff-9e71-0056eb7884ed___GH_HL Leaf 285.JPG sakit\n",
            "1/1 [==============================] - 0s 54ms/step\n",
            "0.6872129\n",
            "healthy/Copy of Salinan fd31ab37-d2af-40c8-9292-e143807ec0f2___RS_HL 0507.JPG sehat\n",
            "1/1 [==============================] - 0s 56ms/step\n",
            "0.73592305\n",
            "healthy/Copy of Salinan fdbbea63-18e0-401f-8269-64ba005ab53f___RS_HL 0213.JPG sehat\n",
            "1/1 [==============================] - 0s 54ms/step\n",
            "0.23398606\n",
            "healthy/Copy of bokchoy_healthy101_jpg.rf.0ff2eb207bede64884dbeedd0e929f21.jpg sakit\n",
            "1/1 [==============================] - 0s 54ms/step\n",
            "0.2322824\n",
            "healthy/Copy of bokchoy_healthy101_jpg.rf.ab67661ab7695d9436eb245e31eadf3d.jpg sakit\n",
            "1/1 [==============================] - 0s 52ms/step\n",
            "0.23398606\n",
            "healthy/Copy of bokchoy_healthy101_jpg.rf.e772448d7751ff5fdd27ce7c80bfa853.jpg sakit\n",
            "1/1 [==============================] - 0s 47ms/step\n",
            "0.24505821\n",
            "healthy/Copy of bokchoy_healthy102_jpg.rf.ce0d342f78fd1f3002af510bb3754b99.jpg sakit\n",
            "1/1 [==============================] - 0s 50ms/step\n",
            "0.2351343\n",
            "healthy/Copy of bokchoy_healthy105_jpg.rf.6ff09c5feb6fb8d3eb4d302e3e4afea2.jpg sakit\n",
            "1/1 [==============================] - 0s 34ms/step\n",
            "0.2444668\n",
            "healthy/Copy of bokchoy_healthy107_jpg.rf.a7ac045788cc8265247e4de1034a7154.jpg sakit\n",
            "1/1 [==============================] - 0s 33ms/step\n",
            "0.2476744\n",
            "healthy/Copy of bokchoy_healthy108_jpg.rf.fca09c7f8240b520c7b21e66a80eda43.jpg sakit\n",
            "1/1 [==============================] - 0s 38ms/step\n",
            "0.23822972\n",
            "healthy/Copy of bokchoy_healthy112_jpg.rf.6cebb0e626ffcfca5e9b5d5e32e8cb19.jpg sakit\n",
            "1/1 [==============================] - 0s 36ms/step\n",
            "0.2478384\n",
            "healthy/Copy of bokchoy_healthy112_jpg.rf.a1f10fbe164bc0f681d5b99782642206.jpg sakit\n",
            "1/1 [==============================] - 0s 37ms/step\n",
            "0.24944773\n",
            "healthy/Copy of bokchoy_healthy1140_jpg.rf.2370ca07a7e147d0d7e75988bd02bd84.jpg sakit\n",
            "1/1 [==============================] - 0s 37ms/step\n",
            "0.25484982\n",
            "healthy/Copy of bokchoy_healthy1140_jpg.rf.3c5d3f68d8be7bf54ba5ee4a5cc92a2f.jpg sakit\n",
            "1/1 [==============================] - 0s 32ms/step\n",
            "0.7470957\n",
            "healthy/Copy of p28.png sehat\n",
            "1/1 [==============================] - 0s 34ms/step\n",
            "0.27469772\n",
            "healthy/Copy of p29.png sakit\n",
            "1/1 [==============================] - 0s 38ms/step\n",
            "0.32004827\n",
            "healthy/Copy of p32.png sakit\n",
            "1/1 [==============================] - 0s 35ms/step\n",
            "0.43129063\n",
            "healthy/Copy of p33.png sakit\n",
            "1/1 [==============================] - 0s 35ms/step\n",
            "0.67341614\n",
            "healthy/Copy of p37.png sehat\n",
            "1/1 [==============================] - 0s 34ms/step\n",
            "0.23763603\n",
            "healthy/Copy of p40.png sakit\n",
            "1/1 [==============================] - 0s 36ms/step\n",
            "0.22701013\n",
            "healthy/Copy of p47.png sakit\n",
            "1/1 [==============================] - 0s 35ms/step\n",
            "0.23715308\n",
            "healthy/Copy of p48.png sakit\n",
            "1/1 [==============================] - 0s 35ms/step\n",
            "0.2423579\n",
            "healthy/Copy of p50.png sakit\n",
            "1/1 [==============================] - 0s 34ms/step\n",
            "0.24769728\n",
            "healthy/Copy of p57.png sakit\n",
            "1/1 [==============================] - 0s 35ms/step\n",
            "0.25186327\n",
            "healthy/Copy of p61.png sakit\n",
            "1/1 [==============================] - 0s 35ms/step\n",
            "0.25195426\n",
            "healthy/Copy of p62.png sakit\n",
            "1/1 [==============================] - 0s 38ms/step\n",
            "0.4055441\n",
            "healthy/Copy of p65.png sakit\n",
            "1/1 [==============================] - 0s 36ms/step\n",
            "0.268274\n",
            "healthy/Mango13.jpg sakit\n",
            "1/1 [==============================] - 0s 42ms/step\n",
            "0.25706372\n",
            "healthy/Mango19.jpg sakit\n",
            "1/1 [==============================] - 0s 39ms/step\n",
            "0.25257683\n",
            "healthy/Mango7.jpg sakit\n",
            "1/1 [==============================] - 0s 40ms/step\n",
            "0.70332223\n",
            "healthy/Potato20.jpeg sehat\n",
            "1/1 [==============================] - 0s 41ms/step\n",
            "0.27057567\n",
            "healthy/Potato21.jpg sakit\n",
            "1/1 [==============================] - 0s 41ms/step\n",
            "0.25131136\n",
            "healthy/Potato25.jpg sakit\n",
            "1/1 [==============================] - 0s 35ms/step\n",
            "0.23589548\n",
            "healthy/Salinan IMG20200629183330.jpg sakit\n",
            "1/1 [==============================] - 0s 35ms/step\n",
            "0.32872826\n",
            "healthy/Salinan IMG20200629183341.jpg sakit\n",
            "1/1 [==============================] - 0s 34ms/step\n",
            "0.24118167\n",
            "healthy/Salinan IMG20200629183350.jpg sakit\n",
            "1/1 [==============================] - 0s 35ms/step\n",
            "0.27107584\n",
            "healthy/Salinan IMG20200629183351.jpg sakit\n",
            "1/1 [==============================] - 0s 37ms/step\n",
            "0.2502422\n",
            "healthy/Salinan IMG20200629183352.jpg sakit\n",
            "1/1 [==============================] - 0s 34ms/step\n",
            "0.26318556\n",
            "healthy/Salinan IMG20200629183403.jpg sakit\n",
            "1/1 [==============================] - 0s 35ms/step\n",
            "0.23466848\n",
            "healthy/Salinan IMG20200629183416.jpg sakit\n",
            "1/1 [==============================] - 0s 39ms/step\n",
            "0.23945421\n",
            "healthy/Salinan IMG20200629183426.jpg sakit\n",
            "1/1 [==============================] - 0s 35ms/step\n",
            "0.25255048\n",
            "healthy/Salinan Tomato797.jpg sakit\n",
            "1/1 [==============================] - 0s 40ms/step\n",
            "0.2563115\n",
            "healthy/Salinan Tomato800.jpg sakit\n",
            "1/1 [==============================] - 0s 39ms/step\n",
            "0.25529283\n",
            "healthy/Salinan Tomato803.jpg sakit\n",
            "1/1 [==============================] - 0s 36ms/step\n",
            "0.6861836\n",
            "healthy/Salinan Tomato811.jpg sehat\n",
            "1/1 [==============================] - 0s 38ms/step\n",
            "0.49697924\n",
            "healthy/Salinan Tomato822.jpg sakit\n",
            "1/1 [==============================] - 0s 41ms/step\n",
            "0.5767501\n",
            "healthy/Salinan f60f6c8b-54f7-4002-b26d-636037912c4d___RS_HL 9956.JPG sehat\n",
            "1/1 [==============================] - 0s 50ms/step\n",
            "0.35962915\n",
            "healthy/Salinan f7069452-9405-45a6-bfb3-f21ea42b9b02___RS_HL 9966.JPG sakit\n",
            "1/1 [==============================] - 0s 35ms/step\n",
            "0.6583237\n",
            "healthy/Salinan f96987aa-d19d-415b-a68c-73a07a47d521___RS_HL 9736.JPG sehat\n",
            "1/1 [==============================] - 0s 41ms/step\n",
            "0.56581676\n",
            "healthy/Salinan fb084c48-8c42-43a1-8193-191ba873bd2d___GH_HL Leaf 514.1.JPG sehat\n",
            "1/1 [==============================] - 0s 39ms/step\n",
            "0.25146475\n",
            "healthy/Salinan fcfb486e-63dc-405c-8a17-0551e5f76959___RS_HL 9663.JPG sakit\n",
            "1/1 [==============================] - 0s 41ms/step\n",
            "0.31116578\n",
            "healthy/Salinan fd09836b-96be-498a-a720-e17a54522de7___RS_HL 9687.JPG sakit\n",
            "1/1 [==============================] - 0s 37ms/step\n",
            "0.7328156\n",
            "healthy/Salinan fd1db002-680b-432b-9d60-68b80a4a310f___RS_HL 0049.JPG sehat\n",
            "1/1 [==============================] - 0s 37ms/step\n",
            "0.7180767\n",
            "healthy/Salinan fd27de23-27cd-4f09-a962-df0b26899b07___RS_HL 0039.JPG sehat\n",
            "1/1 [==============================] - 0s 34ms/step\n",
            "0.23678413\n",
            "healthy/Salinan fd2fa9cc-2147-40ff-9e71-0056eb7884ed___GH_HL Leaf 285.JPG sakit\n",
            "1/1 [==============================] - 0s 32ms/step\n",
            "0.6872129\n",
            "healthy/Salinan fd31ab37-d2af-40c8-9292-e143807ec0f2___RS_HL 0507.JPG sehat\n",
            "1/1 [==============================] - 0s 32ms/step\n",
            "0.73592305\n",
            "healthy/Salinan fdbbea63-18e0-401f-8269-64ba005ab53f___RS_HL 0213.JPG sehat\n",
            "1/1 [==============================] - 0s 35ms/step\n",
            "0.24052283\n",
            "healthy/Salinan thumb (15).jpg sakit\n",
            "1/1 [==============================] - 0s 41ms/step\n",
            "0.22966172\n",
            "healthy/Salinan thumb (18).jpg sakit\n",
            "1/1 [==============================] - 0s 38ms/step\n",
            "0.2539731\n",
            "healthy/Salinan thumb (22).jpg sakit\n",
            "1/1 [==============================] - 0s 37ms/step\n",
            "0.3306491\n",
            "healthy/Salinan thumb (27).jpg sakit\n",
            "1/1 [==============================] - 0s 36ms/step\n",
            "0.25507653\n",
            "healthy/Salinan thumb (36).jpg sakit\n",
            "1/1 [==============================] - 0s 42ms/step\n",
            "0.24083874\n",
            "healthy/Salinan thumb (37).jpg sakit\n",
            "1/1 [==============================] - 0s 35ms/step\n",
            "0.658418\n",
            "healthy/Salinan thumb (43).jpg sehat\n",
            "1/1 [==============================] - 0s 32ms/step\n",
            "0.2512618\n",
            "healthy/Salinan thumb (52).jpg sakit\n",
            "1/1 [==============================] - 0s 34ms/step\n",
            "0.41991997\n",
            "healthy/Salinan thumb (67).jpg sakit\n",
            "1/1 [==============================] - 0s 52ms/step\n",
            "0.23807462\n",
            "healthy/Salinan thumb (84).jpg sakit\n",
            "1/1 [==============================] - 0s 40ms/step\n",
            "0.23398606\n",
            "healthy/bokchoy_healthy101_jpg.rf.0ff2eb207bede64884dbeedd0e929f21.jpg sakit\n",
            "1/1 [==============================] - 0s 39ms/step\n",
            "0.2322824\n",
            "healthy/bokchoy_healthy101_jpg.rf.ab67661ab7695d9436eb245e31eadf3d.jpg sakit\n",
            "1/1 [==============================] - 0s 34ms/step\n",
            "0.23398606\n",
            "healthy/bokchoy_healthy101_jpg.rf.e772448d7751ff5fdd27ce7c80bfa853.jpg sakit\n",
            "1/1 [==============================] - 0s 34ms/step\n",
            "0.24505821\n",
            "healthy/bokchoy_healthy102_jpg.rf.ce0d342f78fd1f3002af510bb3754b99.jpg sakit\n",
            "1/1 [==============================] - 0s 38ms/step\n",
            "0.2351343\n",
            "healthy/bokchoy_healthy105_jpg.rf.6ff09c5feb6fb8d3eb4d302e3e4afea2.jpg sakit\n",
            "1/1 [==============================] - 0s 37ms/step\n",
            "0.2444668\n",
            "healthy/bokchoy_healthy107_jpg.rf.a7ac045788cc8265247e4de1034a7154.jpg sakit\n",
            "1/1 [==============================] - 0s 37ms/step\n",
            "0.2476744\n",
            "healthy/bokchoy_healthy108_jpg.rf.fca09c7f8240b520c7b21e66a80eda43.jpg sakit\n",
            "1/1 [==============================] - 0s 40ms/step\n",
            "0.23822972\n",
            "healthy/bokchoy_healthy112_jpg.rf.6cebb0e626ffcfca5e9b5d5e32e8cb19.jpg sakit\n",
            "1/1 [==============================] - 0s 48ms/step\n",
            "0.2478384\n",
            "healthy/bokchoy_healthy112_jpg.rf.a1f10fbe164bc0f681d5b99782642206.jpg sakit\n",
            "1/1 [==============================] - 0s 38ms/step\n",
            "0.24944773\n",
            "healthy/bokchoy_healthy1140_jpg.rf.2370ca07a7e147d0d7e75988bd02bd84.jpg sakit\n",
            "1/1 [==============================] - 0s 37ms/step\n",
            "0.25484982\n",
            "healthy/bokchoy_healthy1140_jpg.rf.3c5d3f68d8be7bf54ba5ee4a5cc92a2f.jpg sakit\n",
            "1/1 [==============================] - 0s 37ms/step\n",
            "0.29407915\n",
            "healthy/freshTomato (76).jpg sakit\n",
            "1/1 [==============================] - 0s 34ms/step\n",
            "0.26575285\n",
            "healthy/freshTomato (83).jpg sakit\n",
            "1/1 [==============================] - 0s 37ms/step\n",
            "0.27948663\n",
            "healthy/freshTomato (83).png sakit\n",
            "1/1 [==============================] - 0s 38ms/step\n",
            "0.70206416\n",
            "healthy/freshTomato (86).png sehat\n"
          ]
        }
      ]
    },
    {
      "cell_type": "markdown",
      "source": [
        "# Receiver Operating Characteristic (ROC) Curve"
      ],
      "metadata": {
        "id": "Jt0HilWXVpGN"
      }
    },
    {
      "cell_type": "code",
      "source": [
        "from sklearn.metrics import roc_curve, auc, precision_recall_curve, average_precision_score\n",
        "import matplotlib.pyplot as plt\n",
        "\n",
        "# Mendapatkan probabilitas prediksi dari model\n",
        "y_true = test_generator_buah.classes\n",
        "y_prob = average_predictions\n",
        "y_true = y_true[:50]\n",
        "\n",
        "# Menghitung False Positive Rate (fpr), True Positive Rate (tpr), dan threshold untuk ROC curve\n",
        "fpr, tpr, thresholds_roc = roc_curve(y_true, y_prob)\n",
        "\n",
        "# Menghitung Precision, Recall, dan threshold untuk Precision-Recall curve\n",
        "precision, recall, thresholds_pr = precision_recall_curve(y_true, y_prob)\n",
        "\n",
        "# Menghitung AUC-ROC dan AUC-PR\n",
        "roc_auc = auc(fpr, tpr)\n",
        "pr_auc = average_precision_score(y_true, y_prob)\n",
        "\n",
        "# Plot ROC Curve\n",
        "plt.figure(figsize=(8, 8))\n",
        "plt.plot(fpr, tpr, color='darkorange', lw=2, label='ROC curve (area = {:.2f})'.format(roc_auc))\n",
        "plt.plot([0, 1], [0, 1], color='navy', lw=2, linestyle='--')\n",
        "plt.xlabel('False Positive Rate')\n",
        "plt.ylabel('True Positive Rate')\n",
        "plt.title('Receiver Operating Characteristic (ROC) Curve')\n",
        "plt.legend(loc='lower right')\n",
        "plt.show()"
      ],
      "metadata": {
        "colab": {
          "base_uri": "https://localhost:8080/",
          "height": 460
        },
        "id": "sLUXT9B9cLeQ",
        "outputId": "4c7cd242-c4c2-4bfb-ef85-08a5b6c7c1ce"
      },
      "execution_count": 46,
      "outputs": [
        {
          "output_type": "error",
          "ename": "TypeError",
          "evalue": "ignored",
          "traceback": [
            "\u001b[0;31m---------------------------------------------------------------------------\u001b[0m",
            "\u001b[0;31mTypeError\u001b[0m                                 Traceback (most recent call last)",
            "\u001b[0;32m<ipython-input-46-b2b05dc0aabc>\u001b[0m in \u001b[0;36m<cell line: 10>\u001b[0;34m()\u001b[0m\n\u001b[1;32m      8\u001b[0m \u001b[0;34m\u001b[0m\u001b[0m\n\u001b[1;32m      9\u001b[0m \u001b[0;31m# Menghitung False Positive Rate (fpr), True Positive Rate (tpr), dan threshold untuk ROC curve\u001b[0m\u001b[0;34m\u001b[0m\u001b[0;34m\u001b[0m\u001b[0m\n\u001b[0;32m---> 10\u001b[0;31m \u001b[0mfpr\u001b[0m\u001b[0;34m,\u001b[0m \u001b[0mtpr\u001b[0m\u001b[0;34m,\u001b[0m \u001b[0mthresholds_roc\u001b[0m \u001b[0;34m=\u001b[0m \u001b[0mroc_curve\u001b[0m\u001b[0;34m(\u001b[0m\u001b[0my_true\u001b[0m\u001b[0;34m,\u001b[0m \u001b[0my_prob\u001b[0m\u001b[0;34m)\u001b[0m\u001b[0;34m\u001b[0m\u001b[0;34m\u001b[0m\u001b[0m\n\u001b[0m\u001b[1;32m     11\u001b[0m \u001b[0;34m\u001b[0m\u001b[0m\n\u001b[1;32m     12\u001b[0m \u001b[0;31m# Menghitung Precision, Recall, dan threshold untuk Precision-Recall curve\u001b[0m\u001b[0;34m\u001b[0m\u001b[0;34m\u001b[0m\u001b[0m\n",
            "\u001b[0;32m/usr/local/lib/python3.10/dist-packages/sklearn/metrics/_ranking.py\u001b[0m in \u001b[0;36mroc_curve\u001b[0;34m(y_true, y_score, pos_label, sample_weight, drop_intermediate)\u001b[0m\n\u001b[1;32m    990\u001b[0m     \u001b[0marray\u001b[0m\u001b[0;34m(\u001b[0m\u001b[0;34m[\u001b[0m\u001b[0;36m1.8\u001b[0m \u001b[0;34m,\u001b[0m \u001b[0;36m0.8\u001b[0m \u001b[0;34m,\u001b[0m \u001b[0;36m0.4\u001b[0m \u001b[0;34m,\u001b[0m \u001b[0;36m0.35\u001b[0m\u001b[0;34m,\u001b[0m \u001b[0;36m0.1\u001b[0m \u001b[0;34m]\u001b[0m\u001b[0;34m)\u001b[0m\u001b[0;34m\u001b[0m\u001b[0;34m\u001b[0m\u001b[0m\n\u001b[1;32m    991\u001b[0m     \"\"\"\n\u001b[0;32m--> 992\u001b[0;31m     fps, tps, thresholds = _binary_clf_curve(\n\u001b[0m\u001b[1;32m    993\u001b[0m         \u001b[0my_true\u001b[0m\u001b[0;34m,\u001b[0m \u001b[0my_score\u001b[0m\u001b[0;34m,\u001b[0m \u001b[0mpos_label\u001b[0m\u001b[0;34m=\u001b[0m\u001b[0mpos_label\u001b[0m\u001b[0;34m,\u001b[0m \u001b[0msample_weight\u001b[0m\u001b[0;34m=\u001b[0m\u001b[0msample_weight\u001b[0m\u001b[0;34m\u001b[0m\u001b[0;34m\u001b[0m\u001b[0m\n\u001b[1;32m    994\u001b[0m     )\n",
            "\u001b[0;32m/usr/local/lib/python3.10/dist-packages/sklearn/metrics/_ranking.py\u001b[0m in \u001b[0;36m_binary_clf_curve\u001b[0;34m(y_true, y_score, pos_label, sample_weight)\u001b[0m\n\u001b[1;32m    749\u001b[0m         \u001b[0;32mraise\u001b[0m \u001b[0mValueError\u001b[0m\u001b[0;34m(\u001b[0m\u001b[0;34m\"{0} format is not supported\"\u001b[0m\u001b[0;34m.\u001b[0m\u001b[0mformat\u001b[0m\u001b[0;34m(\u001b[0m\u001b[0my_type\u001b[0m\u001b[0;34m)\u001b[0m\u001b[0;34m)\u001b[0m\u001b[0;34m\u001b[0m\u001b[0;34m\u001b[0m\u001b[0m\n\u001b[1;32m    750\u001b[0m \u001b[0;34m\u001b[0m\u001b[0m\n\u001b[0;32m--> 751\u001b[0;31m     \u001b[0mcheck_consistent_length\u001b[0m\u001b[0;34m(\u001b[0m\u001b[0my_true\u001b[0m\u001b[0;34m,\u001b[0m \u001b[0my_score\u001b[0m\u001b[0;34m,\u001b[0m \u001b[0msample_weight\u001b[0m\u001b[0;34m)\u001b[0m\u001b[0;34m\u001b[0m\u001b[0;34m\u001b[0m\u001b[0m\n\u001b[0m\u001b[1;32m    752\u001b[0m     \u001b[0my_true\u001b[0m \u001b[0;34m=\u001b[0m \u001b[0mcolumn_or_1d\u001b[0m\u001b[0;34m(\u001b[0m\u001b[0my_true\u001b[0m\u001b[0;34m)\u001b[0m\u001b[0;34m\u001b[0m\u001b[0;34m\u001b[0m\u001b[0m\n\u001b[1;32m    753\u001b[0m     \u001b[0my_score\u001b[0m \u001b[0;34m=\u001b[0m \u001b[0mcolumn_or_1d\u001b[0m\u001b[0;34m(\u001b[0m\u001b[0my_score\u001b[0m\u001b[0;34m)\u001b[0m\u001b[0;34m\u001b[0m\u001b[0;34m\u001b[0m\u001b[0m\n",
            "\u001b[0;32m/usr/local/lib/python3.10/dist-packages/sklearn/utils/validation.py\u001b[0m in \u001b[0;36mcheck_consistent_length\u001b[0;34m(*arrays)\u001b[0m\n\u001b[1;32m    392\u001b[0m     \"\"\"\n\u001b[1;32m    393\u001b[0m \u001b[0;34m\u001b[0m\u001b[0m\n\u001b[0;32m--> 394\u001b[0;31m     \u001b[0mlengths\u001b[0m \u001b[0;34m=\u001b[0m \u001b[0;34m[\u001b[0m\u001b[0m_num_samples\u001b[0m\u001b[0;34m(\u001b[0m\u001b[0mX\u001b[0m\u001b[0;34m)\u001b[0m \u001b[0;32mfor\u001b[0m \u001b[0mX\u001b[0m \u001b[0;32min\u001b[0m \u001b[0marrays\u001b[0m \u001b[0;32mif\u001b[0m \u001b[0mX\u001b[0m \u001b[0;32mis\u001b[0m \u001b[0;32mnot\u001b[0m \u001b[0;32mNone\u001b[0m\u001b[0;34m]\u001b[0m\u001b[0;34m\u001b[0m\u001b[0;34m\u001b[0m\u001b[0m\n\u001b[0m\u001b[1;32m    395\u001b[0m     \u001b[0muniques\u001b[0m \u001b[0;34m=\u001b[0m \u001b[0mnp\u001b[0m\u001b[0;34m.\u001b[0m\u001b[0munique\u001b[0m\u001b[0;34m(\u001b[0m\u001b[0mlengths\u001b[0m\u001b[0;34m)\u001b[0m\u001b[0;34m\u001b[0m\u001b[0;34m\u001b[0m\u001b[0m\n\u001b[1;32m    396\u001b[0m     \u001b[0;32mif\u001b[0m \u001b[0mlen\u001b[0m\u001b[0;34m(\u001b[0m\u001b[0muniques\u001b[0m\u001b[0;34m)\u001b[0m \u001b[0;34m>\u001b[0m \u001b[0;36m1\u001b[0m\u001b[0;34m:\u001b[0m\u001b[0;34m\u001b[0m\u001b[0;34m\u001b[0m\u001b[0m\n",
            "\u001b[0;32m/usr/local/lib/python3.10/dist-packages/sklearn/utils/validation.py\u001b[0m in \u001b[0;36m<listcomp>\u001b[0;34m(.0)\u001b[0m\n\u001b[1;32m    392\u001b[0m     \"\"\"\n\u001b[1;32m    393\u001b[0m \u001b[0;34m\u001b[0m\u001b[0m\n\u001b[0;32m--> 394\u001b[0;31m     \u001b[0mlengths\u001b[0m \u001b[0;34m=\u001b[0m \u001b[0;34m[\u001b[0m\u001b[0m_num_samples\u001b[0m\u001b[0;34m(\u001b[0m\u001b[0mX\u001b[0m\u001b[0;34m)\u001b[0m \u001b[0;32mfor\u001b[0m \u001b[0mX\u001b[0m \u001b[0;32min\u001b[0m \u001b[0marrays\u001b[0m \u001b[0;32mif\u001b[0m \u001b[0mX\u001b[0m \u001b[0;32mis\u001b[0m \u001b[0;32mnot\u001b[0m \u001b[0;32mNone\u001b[0m\u001b[0;34m]\u001b[0m\u001b[0;34m\u001b[0m\u001b[0;34m\u001b[0m\u001b[0m\n\u001b[0m\u001b[1;32m    395\u001b[0m     \u001b[0muniques\u001b[0m \u001b[0;34m=\u001b[0m \u001b[0mnp\u001b[0m\u001b[0;34m.\u001b[0m\u001b[0munique\u001b[0m\u001b[0;34m(\u001b[0m\u001b[0mlengths\u001b[0m\u001b[0;34m)\u001b[0m\u001b[0;34m\u001b[0m\u001b[0;34m\u001b[0m\u001b[0m\n\u001b[1;32m    396\u001b[0m     \u001b[0;32mif\u001b[0m \u001b[0mlen\u001b[0m\u001b[0;34m(\u001b[0m\u001b[0muniques\u001b[0m\u001b[0;34m)\u001b[0m \u001b[0;34m>\u001b[0m \u001b[0;36m1\u001b[0m\u001b[0;34m:\u001b[0m\u001b[0;34m\u001b[0m\u001b[0;34m\u001b[0m\u001b[0m\n",
            "\u001b[0;32m/usr/local/lib/python3.10/dist-packages/sklearn/utils/validation.py\u001b[0m in \u001b[0;36m_num_samples\u001b[0;34m(x)\u001b[0m\n\u001b[1;32m    323\u001b[0m     \u001b[0;32mif\u001b[0m \u001b[0mhasattr\u001b[0m\u001b[0;34m(\u001b[0m\u001b[0mx\u001b[0m\u001b[0;34m,\u001b[0m \u001b[0;34m\"fit\"\u001b[0m\u001b[0;34m)\u001b[0m \u001b[0;32mand\u001b[0m \u001b[0mcallable\u001b[0m\u001b[0;34m(\u001b[0m\u001b[0mx\u001b[0m\u001b[0;34m.\u001b[0m\u001b[0mfit\u001b[0m\u001b[0;34m)\u001b[0m\u001b[0;34m:\u001b[0m\u001b[0;34m\u001b[0m\u001b[0;34m\u001b[0m\u001b[0m\n\u001b[1;32m    324\u001b[0m         \u001b[0;31m# Don't get num_samples from an ensembles length!\u001b[0m\u001b[0;34m\u001b[0m\u001b[0;34m\u001b[0m\u001b[0m\n\u001b[0;32m--> 325\u001b[0;31m         \u001b[0;32mraise\u001b[0m \u001b[0mTypeError\u001b[0m\u001b[0;34m(\u001b[0m\u001b[0mmessage\u001b[0m\u001b[0;34m)\u001b[0m\u001b[0;34m\u001b[0m\u001b[0;34m\u001b[0m\u001b[0m\n\u001b[0m\u001b[1;32m    326\u001b[0m \u001b[0;34m\u001b[0m\u001b[0m\n\u001b[1;32m    327\u001b[0m     \u001b[0;32mif\u001b[0m \u001b[0;32mnot\u001b[0m \u001b[0mhasattr\u001b[0m\u001b[0;34m(\u001b[0m\u001b[0mx\u001b[0m\u001b[0;34m,\u001b[0m \u001b[0;34m\"__len__\"\u001b[0m\u001b[0;34m)\u001b[0m \u001b[0;32mand\u001b[0m \u001b[0;32mnot\u001b[0m \u001b[0mhasattr\u001b[0m\u001b[0;34m(\u001b[0m\u001b[0mx\u001b[0m\u001b[0;34m,\u001b[0m \u001b[0;34m\"shape\"\u001b[0m\u001b[0;34m)\u001b[0m\u001b[0;34m:\u001b[0m\u001b[0;34m\u001b[0m\u001b[0;34m\u001b[0m\u001b[0m\n",
            "\u001b[0;31mTypeError\u001b[0m: Expected sequence or array-like, got <class 'keras.src.engine.functional.Functional'>"
          ]
        }
      ]
    },
    {
      "cell_type": "markdown",
      "source": [
        "# Precision-Recall Curve"
      ],
      "metadata": {
        "id": "s9NjTKAsVrg9"
      }
    },
    {
      "cell_type": "code",
      "source": [
        "# Plot Precision-Recall Curve\n",
        "plt.figure(figsize=(8, 8))\n",
        "plt.step(recall, precision, color='b', alpha=0.2, where='post')\n",
        "plt.fill_between(recall, precision, step='post', alpha=0.2, color='b')\n",
        "plt.xlabel('Recall')\n",
        "plt.ylabel('Precision')\n",
        "plt.title('Precision-Recall Curve (AUC = {:.2f})'.format(pr_auc))\n",
        "plt.show()"
      ],
      "metadata": {
        "colab": {
          "base_uri": "https://localhost:8080/",
          "height": 263
        },
        "id": "5JnN-KmYVZ_s",
        "outputId": "a54154d8-5391-49c7-b86d-874e5854b7a3"
      },
      "execution_count": 47,
      "outputs": [
        {
          "output_type": "error",
          "ename": "NameError",
          "evalue": "ignored",
          "traceback": [
            "\u001b[0;31m---------------------------------------------------------------------------\u001b[0m",
            "\u001b[0;31mNameError\u001b[0m                                 Traceback (most recent call last)",
            "\u001b[0;32m<ipython-input-47-b1687e26f8d3>\u001b[0m in \u001b[0;36m<cell line: 3>\u001b[0;34m()\u001b[0m\n\u001b[1;32m      1\u001b[0m \u001b[0;31m# Plot Precision-Recall Curve\u001b[0m\u001b[0;34m\u001b[0m\u001b[0;34m\u001b[0m\u001b[0m\n\u001b[1;32m      2\u001b[0m \u001b[0mplt\u001b[0m\u001b[0;34m.\u001b[0m\u001b[0mfigure\u001b[0m\u001b[0;34m(\u001b[0m\u001b[0mfigsize\u001b[0m\u001b[0;34m=\u001b[0m\u001b[0;34m(\u001b[0m\u001b[0;36m8\u001b[0m\u001b[0;34m,\u001b[0m \u001b[0;36m8\u001b[0m\u001b[0;34m)\u001b[0m\u001b[0;34m)\u001b[0m\u001b[0;34m\u001b[0m\u001b[0;34m\u001b[0m\u001b[0m\n\u001b[0;32m----> 3\u001b[0;31m \u001b[0mplt\u001b[0m\u001b[0;34m.\u001b[0m\u001b[0mstep\u001b[0m\u001b[0;34m(\u001b[0m\u001b[0mrecall\u001b[0m\u001b[0;34m,\u001b[0m \u001b[0mprecision\u001b[0m\u001b[0;34m,\u001b[0m \u001b[0mcolor\u001b[0m\u001b[0;34m=\u001b[0m\u001b[0;34m'b'\u001b[0m\u001b[0;34m,\u001b[0m \u001b[0malpha\u001b[0m\u001b[0;34m=\u001b[0m\u001b[0;36m0.2\u001b[0m\u001b[0;34m,\u001b[0m \u001b[0mwhere\u001b[0m\u001b[0;34m=\u001b[0m\u001b[0;34m'post'\u001b[0m\u001b[0;34m)\u001b[0m\u001b[0;34m\u001b[0m\u001b[0;34m\u001b[0m\u001b[0m\n\u001b[0m\u001b[1;32m      4\u001b[0m \u001b[0mplt\u001b[0m\u001b[0;34m.\u001b[0m\u001b[0mfill_between\u001b[0m\u001b[0;34m(\u001b[0m\u001b[0mrecall\u001b[0m\u001b[0;34m,\u001b[0m \u001b[0mprecision\u001b[0m\u001b[0;34m,\u001b[0m \u001b[0mstep\u001b[0m\u001b[0;34m=\u001b[0m\u001b[0;34m'post'\u001b[0m\u001b[0;34m,\u001b[0m \u001b[0malpha\u001b[0m\u001b[0;34m=\u001b[0m\u001b[0;36m0.2\u001b[0m\u001b[0;34m,\u001b[0m \u001b[0mcolor\u001b[0m\u001b[0;34m=\u001b[0m\u001b[0;34m'b'\u001b[0m\u001b[0;34m)\u001b[0m\u001b[0;34m\u001b[0m\u001b[0;34m\u001b[0m\u001b[0m\n\u001b[1;32m      5\u001b[0m \u001b[0mplt\u001b[0m\u001b[0;34m.\u001b[0m\u001b[0mxlabel\u001b[0m\u001b[0;34m(\u001b[0m\u001b[0;34m'Recall'\u001b[0m\u001b[0;34m)\u001b[0m\u001b[0;34m\u001b[0m\u001b[0;34m\u001b[0m\u001b[0m\n",
            "\u001b[0;31mNameError\u001b[0m: name 'recall' is not defined"
          ]
        },
        {
          "output_type": "display_data",
          "data": {
            "text/plain": [
              "<Figure size 800x800 with 0 Axes>"
            ]
          },
          "metadata": {}
        }
      ]
    },
    {
      "cell_type": "markdown",
      "source": [
        "# Combine Model 1\n"
      ],
      "metadata": {
        "id": "i3IkjkJvj-kx"
      }
    },
    {
      "cell_type": "code",
      "source": [
        "model1 = tf.keras.models.load_model('/content/jenis_tanaman_model.h5')\n",
        "model2 = tf.keras.models.load_model('/content/fruit_model.h5')"
      ],
      "metadata": {
        "id": "pDnce4WE9Dnc"
      },
      "execution_count": null,
      "outputs": []
    },
    {
      "cell_type": "code",
      "source": [
        "print(model1.input_shape)\n",
        "print(model2.input_shape)"
      ],
      "metadata": {
        "id": "k-DkLb0EW9hp"
      },
      "execution_count": null,
      "outputs": []
    },
    {
      "cell_type": "code",
      "source": [
        "# Stack the predictions of the two models\n",
        "predictions_model1 = model1.predict(test_generator_sehat)\n",
        "predictions_model2 = model2.predict(test_generator_buah)\n",
        "predictions_model3 = model3.predict(test_generator_daun)\n",
        "\n",
        "# Ensure the number of samples is the same for all predictions\n",
        "min_samples = min(predictions_model1.shape[0], predictions_model2.shape[0], predictions_model3.shape[0])\n",
        "\n",
        "# Identify the minimum number of samples among the three models\n",
        "stacked_predictions = np.column_stack((predictions_model1[:min_samples], predictions_model2[:min_samples], predictions_model3[:min_samples]))"
      ],
      "metadata": {
        "id": "cQpHBPTDg6Nk"
      },
      "execution_count": null,
      "outputs": []
    },
    {
      "cell_type": "code",
      "source": [
        "from scikeras.wrappers import KerasClassifier\n",
        "from sklearn.linear_model import LogisticRegression\n",
        "from sklearn.ensemble import StackingClassifier\n",
        "from sklearn.metrics import accuracy_score\n",
        "\n",
        "epochs = 10\n",
        "batch_size =32\n",
        "\n",
        "# Wrap Keras models with KerasClassifier\n",
        "wrapped_model1 = KerasClassifier(build_fn=lambda: model1, epochs=epochs, batch_size=batch_size)\n",
        "wrapped_model2 = KerasClassifier(build_fn=lambda: model2, epochs=epochs, batch_size=batch_size)\n",
        "wrapped_model3 = KerasClassifier(build_fn=lambda: model3, epochs=epochs, batch_size=batch_size)"
      ],
      "metadata": {
        "id": "GfipdPQzR2F9"
      },
      "execution_count": null,
      "outputs": []
    },
    {
      "cell_type": "code",
      "source": [
        "# Train Stacking Classifier\n",
        "meta_classifier = LogisticRegression()\n",
        "stacking_model = StackingClassifier(estimators=[('model1', wrapped_model1),\n",
        "                                                ('model2', wrapped_model2),\n",
        "                                                ('model3', wrapped_model3)],\n",
        "                                    final_estimator=meta_classifier, stack_method='predict_proba')"
      ],
      "metadata": {
        "id": "F-HlaWctHmjP"
      },
      "execution_count": null,
      "outputs": []
    },
    {
      "cell_type": "code",
      "source": [
        "stacking_model.fit(combine_val, combine_labels)"
      ],
      "metadata": {
        "id": "NjXh0-UwWitF"
      },
      "execution_count": null,
      "outputs": []
    },
    {
      "cell_type": "code",
      "source": [
        "# Evaluate accuracy and loss on validation data\n",
        "stacking_predictions = np.argmax(stacking_model.predict_proba(combine_val), axis=1)\n",
        "stacking_accuracy = accuracy_score(combine_labels, stacking_predictions)\n",
        "print(f'Stacking Model Accuracy: {stacking_accuracy}')"
      ],
      "metadata": {
        "id": "DYEcMdZkagux"
      },
      "execution_count": null,
      "outputs": []
    },
    {
      "cell_type": "markdown",
      "source": [
        "# another"
      ],
      "metadata": {
        "id": "dn93CHNeai6f"
      }
    },
    {
      "cell_type": "code",
      "source": [
        "from tensorflow.keras.models import load_model, Model\n",
        "from tensorflow.keras.layers import concatenate, Dense\n",
        "\n",
        "def load_and_combine_models(model1_path, model2_path, output_classes):\n",
        "    # Memuat model pertama\n",
        "    model1 = load_model(model1_path)\n",
        "\n",
        "    # Memuat model kedua\n",
        "    model2 = load_model(model2_path)\n",
        "\n",
        "    # Mengganti nama input layer pada model pertama\n",
        "    for layer in model1.layers:\n",
        "        layer._name = layer.name + '_1'\n",
        "\n",
        "    # Mengganti nama input layer pada model kedua\n",
        "    for layer in model2.layers:\n",
        "        layer._name = layer.name + '_2'\n",
        "\n",
        "    # Mengambil output dari layer terakhir masing-masing model\n",
        "    output1 = model1.layers[-1].output\n",
        "    output2 = model2.layers[-1].output\n",
        "\n",
        "    # Menggabungkan output model pertama dan kedua\n",
        "    merged = concatenate([output1, output2])\n",
        "\n",
        "    # Menambahkan layer output gabungan\n",
        "    final_output = Dense(output_classes, activation='softmax', name='combined_output')(merged)\n",
        "\n",
        "    # Membuat model gabungan\n",
        "    combined_model = Model(inputs=[model1.input, model2.input], outputs=final_output)\n",
        "\n",
        "    # Compile model\n",
        "    combined_model.compile(optimizer='adam', loss='categorical_crossentropy', metrics=['accuracy'])\n",
        "\n",
        "    # Menampilkan ringkasan model gabungan\n",
        "    combined_model.summary()\n",
        "\n",
        "    return combined_model"
      ],
      "metadata": {
        "id": "ZfQxtcGUfWNc"
      },
      "execution_count": null,
      "outputs": []
    },
    {
      "cell_type": "code",
      "source": [
        "model1_path = '/content/jenis_tanaman_model.h5'\n",
        "model2_path = '/content/jenis_penyakit_model.h5'\n",
        "output_classes = 16\n",
        "\n",
        "combined_mymodel = load_and_combine_models(model1_path, model2_path, output_classes)\n",
        "\n",
        "combined_mymodel.summary()"
      ],
      "metadata": {
        "id": "IuwMRvVWN1hs"
      },
      "execution_count": null,
      "outputs": []
    },
    {
      "cell_type": "code",
      "source": [
        "from tensorflow.keras.callbacks import EarlyStopping\n",
        "from tensorflow.keras.utils import Sequence\n",
        "\n",
        "class CombinedDataGenerator(Sequence):\n",
        "    def __init__(self, generator1, generator2):\n",
        "        self.generator1 = generator1\n",
        "        self.generator2 = generator2\n",
        "        self.batch_size = generator1.batch_size\n",
        "\n",
        "    def __len__(self):\n",
        "        return min(len(self.generator1), len(self.generator2))\n",
        "\n",
        "    def __getitem__(self, index):\n",
        "        X1, y1 = self.generator1[index]\n",
        "        X2, y2 = self.generator2[index]\n",
        "        return [X1, X2], y1  # Gabungkan input dari kedua generator\n",
        "\n"
      ],
      "metadata": {
        "id": "hk209ALDeQfh"
      },
      "execution_count": null,
      "outputs": []
    },
    {
      "cell_type": "code",
      "source": [
        "datagen = ImageDataGenerator(rescale=1./255)\n",
        "\n",
        "# Pengaturan generator untuk data pertama\n",
        "train_generator1 = datagen.flow_from_directory(train_sehat, target_size=(150, 150), batch_size=32, class_mode='categorical')\n",
        "\n",
        "# Pengaturan generator untuk data kedua\n",
        "train_generator2 = datagen.flow_from_directory(train_sakit, target_size=(150, 150), batch_size=32, class_mode='categorical')\n",
        "\n",
        "# Membuat generator gabungan\n",
        "combined_generator = CombinedDataGenerator(train_generator1, train_generator2)\n"
      ],
      "metadata": {
        "id": "qfNttB_EYBkX"
      },
      "execution_count": null,
      "outputs": []
    },
    {
      "cell_type": "code",
      "source": [
        "# Assuming you have already created and compiled your combined model\n",
        "combined_mymodel.fit(combined_generator, epochs=20, callbacks=[EarlyStopping(patience=3)])"
      ],
      "metadata": {
        "id": "zbDjerG_ghvg"
      },
      "execution_count": null,
      "outputs": []
    },
    {
      "cell_type": "code",
      "source": [
        "# Save the entire model to a file\n",
        "combined_model.save(\"jenis_tanaman_model.h5\")\n",
        "\n",
        "# Alternatively, you can save only the model architecture to a JSON file and the weights to a separate file\n",
        "# Save the model architecture to a JSON file\n",
        "model_json = combined_model.to_json()\n",
        "with open(\"combine_model.json\", \"w\") as json_file:\n",
        "    json_file.write(model_json)\n",
        "\n",
        "# Save the model weights to a file\n",
        "combined_model.save_weights(\"combine_weights.h5\")"
      ],
      "metadata": {
        "id": "X-i-golxnFEm"
      },
      "execution_count": null,
      "outputs": []
    }
  ]
}